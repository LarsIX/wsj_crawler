{
 "cells": [
  {
   "cell_type": "markdown",
   "metadata": {},
   "source": [
    "this file is used to load stock market data from the NASDAQ100"
   ]
  },
  {
   "cell_type": "code",
   "execution_count": 5,
   "metadata": {},
   "outputs": [
    {
     "data": {
      "text/plain": [
       "(datetime.datetime(2024, 3, 23, 0, 0), datetime.datetime(2025, 3, 23, 0, 0))"
      ]
     },
     "execution_count": 5,
     "metadata": {},
     "output_type": "execute_result"
    }
   ],
   "source": [
    "import yfinance as yf\n",
    "import pandas as pd\n",
    "import datetime as dt\n",
    "import time\n",
    "import numpy as np\n",
    "import matplotlib.pyplot as plt\n",
    "import seaborn as sns\n",
    "import openpyxl\n",
    "import os\n",
    "\n",
    "# Zeitraum definieren\n",
    "end_date = dt.datetime(2025,3,23)\n",
    "start_date = end_date - dt.timedelta(days=365)\n",
    "start_date, end_date"
   ]
  },
  {
   "cell_type": "code",
   "execution_count": null,
   "metadata": {},
   "outputs": [],
   "source": [
    "# Liste der Nasdaq-100 Ticker laut https://www.nasdaq.com/market-activity/quotes/nasdaq-ndx-index 2025-03-23\n",
    "nasdaq_100_tickers = [\n",
    "    \"AAPL\", \"ABNB\", \"ADBE\", \"ADI\", \"ADP\", \"ADSK\", \"AEP\", \"AMAT\", \"AMD\", \"AMGN\",\n",
    "    \"AMZN\", \"ANSS\", \"APP\", \"ARM\", \"ASML\", \"AVGO\", \"AXON\", \"AZN\", \"BIIB\", \"BKNG\",\n",
    "    \"BKR\", \"CCEP\", \"CDNS\", \"CDW\", \"CEG\", \"CHTR\", \"CMCSA\", \"COST\", \"CPRT\", \"CRWD\",\n",
    "    \"CSCO\", \"CSGP\", \"CSX\", \"CTAS\", \"CTSH\", \"DASH\", \"DDOG\", \"DXCM\", \"EA\", \"EXC\",\n",
    "    \"FANG\", \"FAST\", \"FTNT\", \"GEHC\", \"GFS\", \"GILD\", \"GOOG\", \"GOOGL\", \"HON\", \"IDXX\",\n",
    "    \"INTC\", \"INTU\", \"ISRG\", \"KDP\", \"KHC\", \"KLAC\", \"LIN\", \"LRCX\", \"LULU\", \"MAR\",\n",
    "    \"MCHP\", \"MDB\", \"MDLZ\", \"MELI\", \"META\", \"MNST\", \"MRVL\", \"MSFT\", \"MSTR\", \"MU\",\n",
    "    \"NFLX\", \"NVDA\", \"NXPI\", \"ODFL\", \"ON\", \"ORLY\", \"PANW\", \"PAYX\", \"PCAR\", \"PDD\",\n",
    "    \"PEP\", \"PLTR\", \"PYPL\", \"QCOM\", \"REGN\", \"ROP\", \"ROST\", \"SBUX\", \"SNPS\", \"TEAM\",\n",
    "    \"TMUS\", \"TSLA\", \"TTD\", \"TTWO\", \"TXN\", \"VRSK\", \"VRTX\", \"WBD\", \"WDAY\", \"XEL\",\n",
    "    \"ZS\"\n",
    "]\n",
    "\n",
    "#test"
   ]
  },
  {
   "cell_type": "markdown",
   "metadata": {},
   "source": [
    "# Überprüfe ob Ticker gültig sind\n",
    "valid_tickers = []\n",
    "invalid_tickers = []\n",
    "\n",
    "for ticker in nasdaq_100_tickers:\n",
    "    try:\n",
    "        data = yf.download(ticker, period=\"1d\", progress=False)\n",
    "        if not data.empty:\n",
    "            valid_tickers.append(ticker)\n",
    "            print(f\"✅ {ticker} gültig\")\n",
    "        else:\n",
    "            invalid_tickers.append(ticker)\n",
    "            print(f\"⚠️ {ticker} leer\")\n",
    "    except Exception as e:\n",
    "        invalid_tickers.append(ticker)\n",
    "        print(f\"❌ Fehler bei {ticker}: {e}\")\n",
    "    time.sleep(0.5)  # kleine Pause um API zu schonen\n",
    "\n",
    "print(\"\\n Gültige Ticker:\")\n",
    "print(valid_tickers)\n",
    "\n",
    "print(\"\\n Ungültige oder problematische Ticker:\")\n",
    "print(invalid_tickers)\n",
    "\n",
    "print(len(nasdaq_100_tickers))\n",
    "\n",
    "\n",
    "# lade Daten wie in https://www.youtube.com/watch?v=oWmWFGP9lOg diskutiert\n",
    "\n",
    "# Daten laden\n",
    "#data = yf.download(valid_tickers, start=start_date, end=end_date)\n",
    "\n",
    "# Als Excel sichern\n",
    "#data.to_excel(\"nasdaq_100_data.xlsx\")\n"
   ]
  },
  {
   "cell_type": "code",
   "execution_count": 12,
   "metadata": {},
   "outputs": [
    {
     "name": "stdout",
     "output_type": "stream",
     "text": [
      "                  AAPL        ABNB        ADBE         ADI         ADP  \\\n",
      "Ticker                                                                   \n",
      "2024-03-25  170.047073  167.990005  507.230011  187.517593  239.060287   \n",
      "2024-03-26  168.912430  167.389999  507.600006  185.874863  239.911987   \n",
      "2024-03-27  172.495514  166.410004  504.399994  190.173508  243.103363   \n",
      "2024-03-28  170.674088  164.960007  504.600006  194.560669  244.483704   \n",
      "2024-04-01  169.230927  163.369995  502.089996  193.409790  240.146942   \n",
      "\n",
      "                  ADSK        AEP        AMAT         AMD        AMGN  ...  \\\n",
      "Ticker                                                                 ...   \n",
      "2024-03-25  261.570007  79.796700  206.719223  178.630005  272.512909  ...   \n",
      "2024-03-26  261.670013  79.421150  204.944168  177.869995  273.434845  ...   \n",
      "2024-03-27  260.970001  81.655121  206.263062  179.589996  277.830841  ...   \n",
      "2024-03-28  260.420013  82.906906  204.507843  180.490005  275.909393  ...   \n",
      "2024-04-01  259.440002  81.424019  206.947281  183.339996  274.667267  ...   \n",
      "\n",
      "               TSLA.4    TTD.4   TTWO.4    TXN.4   VRSK.4   VRTX.4     WBD.4  \\\n",
      "Ticker                                                                         \n",
      "2024-03-25   74228600  3426300  3763000  3298600  1063400   732800  28115600   \n",
      "2024-03-26  113186200  4727600  1959900  5898300  1179900   952400  26997400   \n",
      "2024-03-27   81804000  2795200  1181600  4272300  1533800   905400  27785000   \n",
      "2024-03-28   77654800  3053100  1656300  4417800  1218600  1092100  17557500   \n",
      "2024-04-01   81562100  1821500  1270900  2303200   847200   767600  23076000   \n",
      "\n",
      "             WDAY.4    XEL.4     ZS.4  \n",
      "Ticker                                 \n",
      "2024-03-25  1331300  3022700  1214000  \n",
      "2024-03-26  1039600  3498400  1483300  \n",
      "2024-03-27  1681500  3691700  1319800  \n",
      "2024-03-28  1242200  3556400  1628200  \n",
      "2024-04-01  1333900  4266600  1336400  \n",
      "\n",
      "[5 rows x 505 columns]\n"
     ]
    }
   ],
   "source": [
    "#Setze Working Directory (hier Pfad zu Ordner mit Exceldatei einfügen)\n",
    "os.chdir(r\"C:\\Users\\PC\\Desktop\\Masterarbeit\\Code\")\n",
    "\n",
    "# lade Daten zur replizierbarkeit aus Excel\n",
    "data = pd.read_excel(\"nasdaq_100_data.xlsx\", index_col=0, skiprows=[0, 2])\n",
    "print(data.head())"
   ]
  }
 ],
 "metadata": {
  "kernelspec": {
   "display_name": "Python 3",
   "language": "python",
   "name": "python3"
  },
  "language_info": {
   "codemirror_mode": {
    "name": "ipython",
    "version": 3
   },
   "file_extension": ".py",
   "mimetype": "text/x-python",
   "name": "python",
   "nbconvert_exporter": "python",
   "pygments_lexer": "ipython3",
   "version": "3.11.9"
  }
 },
 "nbformat": 4,
 "nbformat_minor": 2
}
