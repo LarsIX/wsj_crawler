{
 "cells": [
  {
   "cell_type": "code",
   "execution_count": 1,
   "id": "1547bc9f",
   "metadata": {},
   "outputs": [],
   "source": [
    "# importing libraries\n",
    "import pandas as pd\n",
    "import sqlite3\n",
    "import os\n",
    "import sys\n",
    "from IPython.display import display\n",
    "import numpy as np\n",
    "import re\n",
    "\n",
    "import sys\n",
    "\n",
    "# first NYT \n",
    "sys.path.append(r\"C:\\Users\\PC\\Desktop\\Masterarbeit\\Code\\NYT\")\n",
    "from text_cleaner_NYT import clean_nyt_article\n",
    "\n",
    "# then WSJ \n",
    "sys.path.append(r\"C:\\Users\\PC\\Desktop\\Masterarbeit\\Code\\WSJ\\Annotation\")\n",
    "from mentions_ai import flag_ai_mentions\n",
    "\n"
   ]
  },
  {
   "cell_type": "markdown",
   "id": "593dc1d7",
   "metadata": {},
   "source": [
    "Load and inspect the dataframe containing the uncleaned corpus"
   ]
  },
  {
   "cell_type": "code",
   "execution_count": 2,
   "id": "5533678c",
   "metadata": {},
   "outputs": [],
   "source": [
    "# load aticles from the database\n",
    "con = sqlite3.connect(r'C:\\Users\\PC\\Desktop\\Masterarbeit\\Code\\NYT\\articlesNYT.db')\n",
    "df = pd.read_sql_query(\"SELECT * FROM article\", con)\n",
    "con.close()"
   ]
  },
  {
   "cell_type": "code",
   "execution_count": 3,
   "id": "1612db8a",
   "metadata": {},
   "outputs": [
    {
     "name": "stdout",
     "output_type": "stream",
     "text": [
      "Index(['article_id', 'image_src', 'scanned_time', 'title', 'sub_title',\n",
      "       'corpus', 'index_id'],\n",
      "      dtype='object')\n",
      "0\n",
      "article_id      0\n",
      "image_src       0\n",
      "scanned_time    0\n",
      "title           0\n",
      "sub_title       0\n",
      "corpus          0\n",
      "index_id        0\n",
      "dtype: int64\n",
      "9396\n"
     ]
    }
   ],
   "source": [
    "# explore columns\n",
    "print(df.columns)\n",
    "\n",
    "# check for duplicates\n",
    "print(df[\"article_id\"].duplicated().sum())\n",
    "\n",
    "# check for missing values\n",
    "print(df.isnull().sum())\n",
    "\n",
    "# check total number of rows\n",
    "print(df.shape[0])\n"
   ]
  },
  {
   "cell_type": "markdown",
   "id": "16cad8b6",
   "metadata": {},
   "source": [
    "Load and inspect the dataframe containing the links and dates columns"
   ]
  },
  {
   "cell_type": "code",
   "execution_count": 4,
   "id": "2c3413f7",
   "metadata": {},
   "outputs": [],
   "source": [
    "# load index file to extract section\n",
    "con = sqlite3.connect(r'C:\\Users\\PC\\Desktop\\Masterarbeit\\Code\\NYT\\articlesNYT.db')\n",
    "df_index = pd.read_sql_query(\"SELECT * FROM articles_index\", con)\n",
    "con.close()"
   ]
  },
  {
   "cell_type": "code",
   "execution_count": 5,
   "id": "669e2491",
   "metadata": {},
   "outputs": [
    {
     "name": "stdout",
     "output_type": "stream",
     "text": [
      "Index(['id', 'year', 'month', 'day', 'headline', 'article_time', 'keyword',\n",
      "       'link', 'scraped_at', 'scanned_status'],\n",
      "      dtype='object')\n",
      "0\n",
      "id                0\n",
      "year              0\n",
      "month             0\n",
      "day               0\n",
      "headline          0\n",
      "article_time      0\n",
      "keyword           0\n",
      "link              0\n",
      "scraped_at        0\n",
      "scanned_status    0\n",
      "dtype: int64\n",
      "9392\n"
     ]
    },
    {
     "data": {
      "text/plain": [
       "0    https://www.nytimes.com/2023/12/30/us/politics/pentagon-venture-capitalists.html\n",
       "1             https://www.nytimes.com/2023/12/31/world/americas/cat-prison-chile.html\n",
       "2            https://www.nytimes.com/2023/12/31/world/middleeast/us-houthi-clash.html\n",
       "3       https://www.nytimes.com/2023/12/30/us/philadelphia-chinatown-76ers-arena.html\n",
       "4                      https://www.nytimes.com/2024/01/01/us/new-state-laws-2024.html\n",
       "Name: link, dtype: object"
      ]
     },
     "metadata": {},
     "output_type": "display_data"
    },
    {
     "name": "stdout",
     "output_type": "stream",
     "text": [
      "['2024']\n",
      "['1' '2' '3' '4' '5' '6' '7' '8' '9' '10' '11' '12']\n",
      "['1' '2' '3' '4' '5' '6' '7' '8' '9' '10' '11' '12' '13' '14' '15' '16'\n",
      " '17' '18' '19' '20' '21' '22' '23' '24' '25' '26' '27' '28' '29' '30'\n",
      " '31']\n"
     ]
    }
   ],
   "source": [
    "# explore columns\n",
    "print(df_index.columns)\n",
    "\n",
    "# check for duplicates\n",
    "print(df_index.id.duplicated().sum())\n",
    "\n",
    "# check for missing values\n",
    "print(df_index.isnull().sum())\n",
    "\n",
    "# check total number of rows\n",
    "print(df_index.shape[0])\n",
    "\n",
    "# check link\n",
    "pd.set_option('display.max_colwidth', None)\n",
    "display(df_index['link'].head())\n",
    "\n",
    "# check year, month, day\n",
    "print(df_index['year'].unique())\n",
    "print(df_index['month'].unique())\n",
    "print(df_index['day'].unique())"
   ]
  },
  {
   "cell_type": "markdown",
   "id": "d324a939",
   "metadata": {},
   "source": [
    "Construct date column in format yyyy - mm - dd for further analysis"
   ]
  },
  {
   "cell_type": "code",
   "execution_count": 6,
   "id": "fa0941a5",
   "metadata": {},
   "outputs": [
    {
     "name": "stdout",
     "output_type": "stream",
     "text": [
      "2024-01-01 00:00:00 2024-12-31 00:00:00\n"
     ]
    }
   ],
   "source": [
    "# construct date column from year, month, day\n",
    "df_index['date'] = df_index['year'].astype(str) + '-' + df_index['month'].astype(str) + '-' + df_index['day'].astype(str)\n",
    "df_index['date'] = pd.to_datetime(df_index['date'], format='%Y-%m-%d')\n",
    "\n",
    "# verify date column\n",
    "print(df_index['date'].min(), df_index['date'].max())\n"
   ]
  },
  {
   "cell_type": "code",
   "execution_count": 7,
   "id": "0e6dfbe5",
   "metadata": {},
   "outputs": [],
   "source": [
    "# drop year, month, day columns\n",
    "df_index.drop(columns=['year', 'month', 'day'], inplace=True)\n"
   ]
  },
  {
   "cell_type": "markdown",
   "id": "81146dc7",
   "metadata": {},
   "source": [
    "Extract sections from link, investigate where no section is pressent"
   ]
  },
  {
   "cell_type": "code",
   "execution_count": 8,
   "id": "34657fea",
   "metadata": {},
   "outputs": [
    {
     "name": "stdout",
     "output_type": "stream",
     "text": [
      "0           us\n",
      "1        world\n",
      "2        world\n",
      "3           us\n",
      "4           us\n",
      "         ...  \n",
      "9387        us\n",
      "9388    health\n",
      "9389        us\n",
      "9390     world\n",
      "9391     world\n",
      "Name: section, Length: 9392, dtype: object\n"
     ]
    }
   ],
   "source": [
    "# extract section from link using regex\n",
    "sections = df_index.link.str.extract(r'nytimes\\.com/(?:live/)?\\d{4}/\\d{2}/\\d{2}/([^/]+)/')[0]\n",
    "df_index['section'] = sections\n",
    "\n",
    "# check if section is extracted correctly\n",
    "print(df_index['section'])"
   ]
  },
  {
   "cell_type": "code",
   "execution_count": 9,
   "id": "9d1b4f65",
   "metadata": {},
   "outputs": [
    {
     "name": "stdout",
     "output_type": "stream",
     "text": [
      "        id  \\\n",
      "1497  1570   \n",
      "1620  1694   \n",
      "3729  3868   \n",
      "3938  4086   \n",
      "4225  4379   \n",
      "5659  5863   \n",
      "6350  6570   \n",
      "8502  8778   \n",
      "8817  9101   \n",
      "\n",
      "                                                                        headline  \\\n",
      "1497       France Moves Closer to Enshrining Abortion Access in Its Constitution   \n",
      "1620       As ‘Zombie Fires’ Smolder, Canada Braces for Another Season of Flames   \n",
      "3729  A Public Park or Private Spa: A City Debates the Future of an Island Oasis   \n",
      "3938                  For Heroes of D-Day, This Reunion Might Be a ‘Last Hurrah’   \n",
      "4225              For Most Refugees in Canada, a Warm Embrace. For Others, Jail.   \n",
      "5659           Paris, Uncharacteristically Giddy, Bids Au Revoir to the Olympics   \n",
      "6350                                              N.F.L. 2024 Season Predictions   \n",
      "8502          ‘Mr. Every Man’: The 50 Others Accused in France’s Mass Rape Trial   \n",
      "8817                                France’s First Big #MeToo Case Goes to Trial   \n",
      "\n",
      "     article_time keyword  \\\n",
      "1497          N/A     N/A   \n",
      "1620          N/A     N/A   \n",
      "3729          N/A     N/A   \n",
      "3938          N/A     N/A   \n",
      "4225          N/A     N/A   \n",
      "5659          N/A     N/A   \n",
      "6350          N/A     N/A   \n",
      "8502          N/A     N/A   \n",
      "8817          N/A     N/A   \n",
      "\n",
      "                                                                              link  \\\n",
      "1497          https://www.nytimes.com/2024/02/28/france-abortion-constitution.html   \n",
      "1620          https://www.nytimes.com/2024/03/04/canada-zombie-fires-wildfire.html   \n",
      "3729  https://www.nytimes.com/2024/05/26/canada-ontario-place-spa-development.html   \n",
      "3938          https://www.nytimes.com/2024/06/04/d-day-reunion-ww-ii-veterans.html   \n",
      "4225    https://www.nytimes.com/2024/06/15/canada-refugees-immigration-prison.html   \n",
      "5659    https://www.nytimes.com/2024/08/11/paris-closing-ceremony-los-angeles.html   \n",
      "6350           https://www.nytimes.com/2024/09/04/nfl-2024-season-predictions.html   \n",
      "8502              https://www.nytimes.com/2024/11/27/france-mass-rape-pelicot.html   \n",
      "8817             https://www.nytimes.com/2024/12/09/france-metoo-adele-haenel.html   \n",
      "\n",
      "               scraped_at  scanned_status       date section  \n",
      "1497  2025-04-15 12:55:15               1 2024-02-29     NaN  \n",
      "1620  2025-04-15 12:56:10               1 2024-03-05     NaN  \n",
      "3729  2025-04-15 13:11:34               1 2024-05-27     NaN  \n",
      "3938  2025-04-15 13:13:14               1 2024-06-05     NaN  \n",
      "4225  2025-04-15 13:15:14               1 2024-06-16     NaN  \n",
      "5659  2025-04-15 13:25:50               1 2024-08-12     NaN  \n",
      "6350  2025-04-15 13:30:50               1 2024-09-08     NaN  \n",
      "8502  2025-04-15 13:45:53               1 2024-11-28     NaN  \n",
      "8817  2025-04-15 13:48:06               1 2024-12-10     NaN  \n",
      "There are 9 articles without a section.\n"
     ]
    }
   ],
   "source": [
    "# inspect where section is NaN\n",
    "no_sec = df_index[df_index['section'].isnull()]\n",
    "\n",
    "# check if there are any other sections\n",
    "print(no_sec.head(11))\n",
    "print(f\"There are {len(no_sec)} articles without a section.\")"
   ]
  },
  {
   "cell_type": "markdown",
   "id": "29be3626",
   "metadata": {},
   "source": [
    "Investigating the articles without section showed that they are not related to any section in the NYT. Those are dropped."
   ]
  },
  {
   "cell_type": "code",
   "execution_count": 10,
   "id": "feb970af",
   "metadata": {},
   "outputs": [
    {
     "name": "stdout",
     "output_type": "stream",
     "text": [
      "After dropping the articles without a section, there are 9383 articles left.\n"
     ]
    }
   ],
   "source": [
    "# dropping the articles without a section\n",
    "df_index.drop(no_sec.index, inplace=True)\n",
    "print(f\"After dropping the articles without a section, there are {len(df_index)} articles left.\")   "
   ]
  },
  {
   "cell_type": "markdown",
   "id": "bca5e259",
   "metadata": {},
   "source": [
    "Merging both dataframes to have one dataframe containing all relevant collumns"
   ]
  },
  {
   "cell_type": "code",
   "execution_count": 11,
   "id": "227c9898",
   "metadata": {},
   "outputs": [
    {
     "name": "stdout",
     "output_type": "stream",
     "text": [
      "After merging the articles with the index, there are 9099 articles left.\n"
     ]
    }
   ],
   "source": [
    "# perform inner join\n",
    "df_merged = pd.merge(df, df_index, left_on='article_id', right_on=\"id\", how='inner')\n",
    "print(f\"After merging the articles with the index, there are {len(df_merged)} articles left.\")"
   ]
  },
  {
   "cell_type": "markdown",
   "id": "73d8c33f",
   "metadata": {},
   "source": [
    "Due to introduction of a scrapinglimit of maximum of 30 articles / day for the scraping process, some article links were crawled, without the corpus being downloaded. Those are dropped, resulting in n=9099 articles."
   ]
  },
  {
   "cell_type": "code",
   "execution_count": 12,
   "id": "b531edf8",
   "metadata": {},
   "outputs": [
    {
     "name": "stdout",
     "output_type": "stream",
     "text": [
      "0\n",
      "Index(['article_id', 'image_src', 'scanned_time', 'title', 'sub_title',\n",
      "       'corpus', 'index_id', 'id', 'headline', 'article_time', 'keyword',\n",
      "       'link', 'scraped_at', 'scanned_status', 'date', 'section'],\n",
      "      dtype='object')\n",
      "['us' 'world' 'arts' 'business' 'style' 'obituaries' 'nyregion'\n",
      " 'your-money' 'science' 'opinion' 'sports' 'health' 'theater' 'dining'\n",
      " 'books' 'movies' 'technology' 'climate' 'upshot' 'headway' 'briefing'\n",
      " 'travel' 'well' 'fashion' 'realestate' 'weather' 'magazine' 'pageoneplus'\n",
      " 'education']\n",
      "2024-01-01 00:00:00 2024-12-21 00:00:00\n"
     ]
    }
   ],
   "source": [
    "# verify the merge\n",
    "print(df_merged['article_id'].isnull().sum())\n",
    "print(df_merged.columns)\n",
    "print(df_merged['section'].unique())\n",
    "print(df_merged['date'].min(), df_merged['date'].max())"
   ]
  },
  {
   "cell_type": "markdown",
   "id": "6ae10419",
   "metadata": {},
   "source": [
    "Dropping all articles from irrelevant sections, keeping 'us' 'world' \"business\", \"science\", \"opinion\", \"technology\", \"briefing\", 'books', \"magazine\", \"health\""
   ]
  },
  {
   "cell_type": "code",
   "execution_count": null,
   "id": "3f3ea3dd",
   "metadata": {},
   "outputs": [
    {
     "name": "stdout",
     "output_type": "stream",
     "text": [
      "After filtering, 7340 articles remain in relevant sections.\n"
     ]
    }
   ],
   "source": [
    "# Define relevant sections\n",
    "relevant_sections = [\n",
    "    'us', 'world', 'business', 'science', 'opinion', 'technology',\n",
    "    'books', ,'health' \"climate\"\n",
    "]\n",
    "\n",
    "# Filter the merged DataFrame\n",
    "df_filtered = df_merged[df_merged['section'].isin(relevant_sections)]\n",
    "\n",
    "# Optional: print result count\n",
    "print(f\"After filtering, {len(df_filtered)} articles remain in relevant sections.\")"
   ]
  },
  {
   "cell_type": "markdown",
   "id": "405aca9c",
   "metadata": {},
   "source": [
    "Dropping irrelevant collums"
   ]
  },
  {
   "cell_type": "code",
   "execution_count": 14,
   "id": "aca7db18",
   "metadata": {},
   "outputs": [
    {
     "name": "stdout",
     "output_type": "stream",
     "text": [
      "Index(['article_id', 'title', 'sub_title', 'corpus', 'headline', 'date',\n",
      "       'section'],\n",
      "      dtype='object')\n"
     ]
    },
    {
     "name": "stderr",
     "output_type": "stream",
     "text": [
      "C:\\Users\\PC\\AppData\\Local\\Temp\\ipykernel_16984\\3741235235.py:5: SettingWithCopyWarning: \n",
      "A value is trying to be set on a copy of a slice from a DataFrame\n",
      "\n",
      "See the caveats in the documentation: https://pandas.pydata.org/pandas-docs/stable/user_guide/indexing.html#returning-a-view-versus-a-copy\n",
      "  df_filtered.drop(columns=to_drop, inplace=True)\n"
     ]
    }
   ],
   "source": [
    "# define the columns to drop\n",
    "to_drop = ['image_src', 'scanned_time', 'index_id', 'id','article_time','keyword','link','scraped_at','scanned_status']\n",
    "\n",
    "# drop the columns\n",
    "df_filtered.drop(columns=to_drop, inplace=True)\n",
    "\n",
    "# verify the drop\n",
    "print(df_filtered.columns)"
   ]
  },
  {
   "cell_type": "markdown",
   "id": "ac372c3e",
   "metadata": {},
   "source": [
    "Apply seperatly constructed cleaner function"
   ]
  },
  {
   "cell_type": "code",
   "execution_count": 15,
   "id": "61d19925",
   "metadata": {},
   "outputs": [],
   "source": [
    "# apply the text cleaner function to the text column\n",
    "df_filtered_clean = df_filtered.copy()\n",
    "df_filtered_clean[\"corpus\"] = df_filtered[\"corpus\"].apply(clean_nyt_article)"
   ]
  },
  {
   "cell_type": "code",
   "execution_count": null,
   "id": "12c2c4ef",
   "metadata": {},
   "outputs": [],
   "source": [
    "# modify corpus column to ease the preview\n",
    "df_filtered_clean[\"corpus_preview\"] = df_filtered_clean[\"corpus\"].str.slice(0, ) + \"...\"\n",
    "display(df_filtered_clean[[\"headline\", \"corpus_preview\"]].head())"
   ]
  },
  {
   "cell_type": "markdown",
   "id": "f4eea4e8",
   "metadata": {},
   "source": [
    "Filter for AI-related terms"
   ]
  },
  {
   "cell_type": "code",
   "execution_count": null,
   "id": "96096eac",
   "metadata": {},
   "outputs": [
    {
     "name": "stdout",
     "output_type": "stream",
     "text": [
      "295 out of 7349 articles mention AI-related topics.\n"
     ]
    },
    {
     "ename": "KeyError",
     "evalue": "'flagged'",
     "output_type": "error",
     "traceback": [
      "\u001b[31m---------------------------------------------------------------------------\u001b[39m",
      "\u001b[31mKeyError\u001b[39m                                  Traceback (most recent call last)",
      "\u001b[36mFile \u001b[39m\u001b[32m~\\AppData\\Local\\Packages\\PythonSoftwareFoundation.Python.3.11_qbz5n2kfra8p0\\LocalCache\\local-packages\\Python311\\site-packages\\pandas\\core\\indexes\\base.py:3805\u001b[39m, in \u001b[36mIndex.get_loc\u001b[39m\u001b[34m(self, key)\u001b[39m\n\u001b[32m   3804\u001b[39m \u001b[38;5;28;01mtry\u001b[39;00m:\n\u001b[32m-> \u001b[39m\u001b[32m3805\u001b[39m     \u001b[38;5;28;01mreturn\u001b[39;00m \u001b[38;5;28;43mself\u001b[39;49m\u001b[43m.\u001b[49m\u001b[43m_engine\u001b[49m\u001b[43m.\u001b[49m\u001b[43mget_loc\u001b[49m\u001b[43m(\u001b[49m\u001b[43mcasted_key\u001b[49m\u001b[43m)\u001b[49m\n\u001b[32m   3806\u001b[39m \u001b[38;5;28;01mexcept\u001b[39;00m \u001b[38;5;167;01mKeyError\u001b[39;00m \u001b[38;5;28;01mas\u001b[39;00m err:\n",
      "\u001b[36mFile \u001b[39m\u001b[32mindex.pyx:167\u001b[39m, in \u001b[36mpandas._libs.index.IndexEngine.get_loc\u001b[39m\u001b[34m()\u001b[39m\n",
      "\u001b[36mFile \u001b[39m\u001b[32mindex.pyx:196\u001b[39m, in \u001b[36mpandas._libs.index.IndexEngine.get_loc\u001b[39m\u001b[34m()\u001b[39m\n",
      "\u001b[36mFile \u001b[39m\u001b[32mpandas\\\\_libs\\\\hashtable_class_helper.pxi:7081\u001b[39m, in \u001b[36mpandas._libs.hashtable.PyObjectHashTable.get_item\u001b[39m\u001b[34m()\u001b[39m\n",
      "\u001b[36mFile \u001b[39m\u001b[32mpandas\\\\_libs\\\\hashtable_class_helper.pxi:7089\u001b[39m, in \u001b[36mpandas._libs.hashtable.PyObjectHashTable.get_item\u001b[39m\u001b[34m()\u001b[39m\n",
      "\u001b[31mKeyError\u001b[39m: 'flagged'",
      "\nThe above exception was the direct cause of the following exception:\n",
      "\u001b[31mKeyError\u001b[39m                                  Traceback (most recent call last)",
      "\u001b[36mCell\u001b[39m\u001b[36m \u001b[39m\u001b[32mIn[17]\u001b[39m\u001b[32m, line 7\u001b[39m\n\u001b[32m      4\u001b[39m df_flagged = flag_ai_mentions(df_flagged)\n\u001b[32m      6\u001b[39m \u001b[38;5;66;03m# print share of flagged articles\u001b[39;00m\n\u001b[32m----> \u001b[39m\u001b[32m7\u001b[39m \u001b[38;5;28mprint\u001b[39m(\u001b[33mf\u001b[39m\u001b[33m\"\u001b[39m\u001b[33mShare of flagged articles: \u001b[39m\u001b[38;5;132;01m{\u001b[39;00m\u001b[43mdf_flagged\u001b[49m\u001b[43m[\u001b[49m\u001b[33;43m'\u001b[39;49m\u001b[33;43mflagged\u001b[39;49m\u001b[33;43m'\u001b[39;49m\u001b[43m]\u001b[49m.mean()\u001b[38;5;250m \u001b[39m*\u001b[38;5;250m \u001b[39m\u001b[32m100\u001b[39m\u001b[38;5;132;01m:\u001b[39;00m\u001b[33m.2f\u001b[39m\u001b[38;5;132;01m}\u001b[39;00m\u001b[33m%\u001b[39m\u001b[33m\"\u001b[39m)\n",
      "\u001b[36mFile \u001b[39m\u001b[32m~\\AppData\\Local\\Packages\\PythonSoftwareFoundation.Python.3.11_qbz5n2kfra8p0\\LocalCache\\local-packages\\Python311\\site-packages\\pandas\\core\\frame.py:4102\u001b[39m, in \u001b[36mDataFrame.__getitem__\u001b[39m\u001b[34m(self, key)\u001b[39m\n\u001b[32m   4100\u001b[39m \u001b[38;5;28;01mif\u001b[39;00m \u001b[38;5;28mself\u001b[39m.columns.nlevels > \u001b[32m1\u001b[39m:\n\u001b[32m   4101\u001b[39m     \u001b[38;5;28;01mreturn\u001b[39;00m \u001b[38;5;28mself\u001b[39m._getitem_multilevel(key)\n\u001b[32m-> \u001b[39m\u001b[32m4102\u001b[39m indexer = \u001b[38;5;28;43mself\u001b[39;49m\u001b[43m.\u001b[49m\u001b[43mcolumns\u001b[49m\u001b[43m.\u001b[49m\u001b[43mget_loc\u001b[49m\u001b[43m(\u001b[49m\u001b[43mkey\u001b[49m\u001b[43m)\u001b[49m\n\u001b[32m   4103\u001b[39m \u001b[38;5;28;01mif\u001b[39;00m is_integer(indexer):\n\u001b[32m   4104\u001b[39m     indexer = [indexer]\n",
      "\u001b[36mFile \u001b[39m\u001b[32m~\\AppData\\Local\\Packages\\PythonSoftwareFoundation.Python.3.11_qbz5n2kfra8p0\\LocalCache\\local-packages\\Python311\\site-packages\\pandas\\core\\indexes\\base.py:3812\u001b[39m, in \u001b[36mIndex.get_loc\u001b[39m\u001b[34m(self, key)\u001b[39m\n\u001b[32m   3807\u001b[39m     \u001b[38;5;28;01mif\u001b[39;00m \u001b[38;5;28misinstance\u001b[39m(casted_key, \u001b[38;5;28mslice\u001b[39m) \u001b[38;5;129;01mor\u001b[39;00m (\n\u001b[32m   3808\u001b[39m         \u001b[38;5;28misinstance\u001b[39m(casted_key, abc.Iterable)\n\u001b[32m   3809\u001b[39m         \u001b[38;5;129;01mand\u001b[39;00m \u001b[38;5;28many\u001b[39m(\u001b[38;5;28misinstance\u001b[39m(x, \u001b[38;5;28mslice\u001b[39m) \u001b[38;5;28;01mfor\u001b[39;00m x \u001b[38;5;129;01min\u001b[39;00m casted_key)\n\u001b[32m   3810\u001b[39m     ):\n\u001b[32m   3811\u001b[39m         \u001b[38;5;28;01mraise\u001b[39;00m InvalidIndexError(key)\n\u001b[32m-> \u001b[39m\u001b[32m3812\u001b[39m     \u001b[38;5;28;01mraise\u001b[39;00m \u001b[38;5;167;01mKeyError\u001b[39;00m(key) \u001b[38;5;28;01mfrom\u001b[39;00m\u001b[38;5;250m \u001b[39m\u001b[34;01merr\u001b[39;00m\n\u001b[32m   3813\u001b[39m \u001b[38;5;28;01mexcept\u001b[39;00m \u001b[38;5;167;01mTypeError\u001b[39;00m:\n\u001b[32m   3814\u001b[39m     \u001b[38;5;66;03m# If we have a listlike key, _check_indexing_error will raise\u001b[39;00m\n\u001b[32m   3815\u001b[39m     \u001b[38;5;66;03m#  InvalidIndexError. Otherwise we fall through and re-raise\u001b[39;00m\n\u001b[32m   3816\u001b[39m     \u001b[38;5;66;03m#  the TypeError.\u001b[39;00m\n\u001b[32m   3817\u001b[39m     \u001b[38;5;28mself\u001b[39m._check_indexing_error(key)\n",
      "\u001b[31mKeyError\u001b[39m: 'flagged'"
     ]
    }
   ],
   "source": [
    "df_flagged = df_filtered_clean.copy()\n",
    "\n",
    "# apply the flag_ai_mentions function to the corpus column\n",
    "df_flagged = flag_ai_mentions(df_flagged)\n",
    "\n",
    "# print share of flagged articles\n",
    "print(f\"Share of flagged articles: {df_flagged['mentions_ai'].mean() * 100:.2f}%\")"
   ]
  },
  {
   "cell_type": "code",
   "execution_count": 20,
   "id": "62108aa8",
   "metadata": {},
   "outputs": [
    {
     "name": "stdout",
     "output_type": "stream",
     "text": [
      "Share of flagged articles: 4.01%\n",
      "Number of flagged articles: 295\n"
     ]
    },
    {
     "ename": "AttributeError",
     "evalue": "'DataFrame' object has no attribute 'sections'",
     "output_type": "error",
     "traceback": [
      "\u001b[31m---------------------------------------------------------------------------\u001b[39m",
      "\u001b[31mAttributeError\u001b[39m                            Traceback (most recent call last)",
      "\u001b[32m~\\AppData\\Local\\Temp\\ipykernel_16984\\36282975.py\u001b[39m in \u001b[36m?\u001b[39m\u001b[34m()\u001b[39m\n\u001b[32m      4\u001b[39m \u001b[38;5;66;03m# number of flagged articles\u001b[39;00m\n\u001b[32m      5\u001b[39m print(\u001b[33mf\"Number of flagged articles: {df_flagged['mentions_ai'].sum()}\"\u001b[39m)\n\u001b[32m      6\u001b[39m \n\u001b[32m      7\u001b[39m \u001b[38;5;66;03m# unique sections of articles\u001b[39;00m\n\u001b[32m----> \u001b[39m\u001b[32m8\u001b[39m print(\u001b[33mf\"Unique sections of  articles: {df_flagged.sections.unique()}\"\u001b[39m)\n",
      "\u001b[32m~\\AppData\\Local\\Packages\\PythonSoftwareFoundation.Python.3.11_qbz5n2kfra8p0\\LocalCache\\local-packages\\Python311\\site-packages\\pandas\\core\\generic.py\u001b[39m in \u001b[36m?\u001b[39m\u001b[34m(self, name)\u001b[39m\n\u001b[32m   6295\u001b[39m             \u001b[38;5;28;01mand\u001b[39;00m name \u001b[38;5;28;01mnot\u001b[39;00m \u001b[38;5;28;01min\u001b[39;00m self._accessors\n\u001b[32m   6296\u001b[39m             \u001b[38;5;28;01mand\u001b[39;00m self._info_axis._can_hold_identifiers_and_holds_name(name)\n\u001b[32m   6297\u001b[39m         ):\n\u001b[32m   6298\u001b[39m             \u001b[38;5;28;01mreturn\u001b[39;00m self[name]\n\u001b[32m-> \u001b[39m\u001b[32m6299\u001b[39m         \u001b[38;5;28;01mreturn\u001b[39;00m object.__getattribute__(self, name)\n",
      "\u001b[31mAttributeError\u001b[39m: 'DataFrame' object has no attribute 'sections'"
     ]
    }
   ],
   "source": [
    "# print share of flagged articles\n",
    "print(f\"Share of flagged articles: {df_flagged['mentions_ai'].mean() * 100:.2f}%\")\n",
    "\n",
    "# number of flagged articles\n",
    "print(f\"Number of flagged articles: {df_flagged['mentions_ai'].sum()}\")\n",
    "\n",
    "# unique sections of articles\n",
    "print(f\"Unique sections of  articles: {df_flagged.sections.unique()}\")"
   ]
  },
  {
   "cell_type": "code",
   "execution_count": 21,
   "id": "7e863336",
   "metadata": {},
   "outputs": [],
   "source": [
    "# write to csv\n",
    "df_flagged.to_csv(r\"C:\\Users\\PC\\Desktop\\Masterarbeit\\Code\\NYT\\articlesNYT_cleaned_flagged.csv\", index=False)"
   ]
  }
 ],
 "metadata": {
  "kernelspec": {
   "display_name": "Python 3",
   "language": "python",
   "name": "python3"
  },
  "language_info": {
   "codemirror_mode": {
    "name": "ipython",
    "version": 3
   },
   "file_extension": ".py",
   "mimetype": "text/x-python",
   "name": "python",
   "nbconvert_exporter": "python",
   "pygments_lexer": "ipython3",
   "version": "3.11.9"
  }
 },
 "nbformat": 4,
 "nbformat_minor": 5
}
