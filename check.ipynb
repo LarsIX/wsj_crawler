{
 "cells": [
  {
   "cell_type": "code",
   "execution_count": 1,
   "metadata": {},
   "outputs": [
    {
     "name": "stdout",
     "output_type": "stream",
     "text": [
      "🔍 Gefundene Artikel mit 'not found': 22687\n",
      "\n",
      "       article_id         scanned_time  \\\n",
      "0           35754  2025-04-12 13:29:47   \n",
      "1           35753  2025-04-12 13:29:34   \n",
      "2           35752  2025-04-12 13:29:20   \n",
      "3           35751  2025-04-12 13:29:06   \n",
      "4           35750  2025-04-12 13:28:55   \n",
      "...           ...                  ...   \n",
      "22682       13072  2025-04-01 09:47:59   \n",
      "22683       13071  2025-04-01 09:47:49   \n",
      "22684       13070  2025-04-01 09:47:37   \n",
      "22685       13069  2025-04-01 09:47:27   \n",
      "22686       13068  2025-04-01 09:47:17   \n",
      "\n",
      "                                                                                                                                                                                                                                                                                                                                                                                                                                                                                                                                                                                                                                                                                                                                                                                                                                                                                                                                                                                                                                        corpus  \\\n",
      "0      RISK & COMPLIANCE JOURNAL\\nSEC Fines Seven Companies for Violations to Whistleblower-Protections Rules\\nCompanies will pay a combined $3 million over employment agreements and separation releases with language that could deter whistleblowers from coming forward, the agency says\\nBy\\nMengqi Sun\\nFollow\\nSept. 9, 2024 4:00 pm ET\\nGift unlocked article\\nListen\\n(3 min)\\nAppFolio was one of seven companies that agreed to pay civil fines for violations to whistleblower-protection rules. AppFolio’s fine was the second-highest of the group, at $692,250. PHOTO: JAQUE SILVA/ZUMA PRESS\\nThe Securities and Exchange Commission has continued its crackdown on companies over language in their employment and separation agreements that could discourage whistleblowers from coming forward.\\nOn Monday, the SEC fined seven public companies—in industries ranging from healthcare to software—more than $3 million combined, alleging their employment, separation and other agreements contain confidentiality c...   \n",
      "1      Advertisement\\nBUSINESS\\nMEDIA\\nStarboard Calls on News Corp to Scrap Dual-Class Share Structure\\nActivist investor says current structure gives too much influence to family of Rupert Murdoch\\nBy\\nDenny Jacob\\nFollow\\nand\\nJeffrey A. Trachtenberg\\nFollow\\nUpdated Sept. 9, 2024 4:04 pm ET\\nGift unlocked article\\nListen\\n(4 min)\\nStarboard said News Corp’s dual-class structure isn’t in the best interest of the group’s shareholders. PHOTO: BING GUAN/REUTERS\\nActivist investor Starboard Value said News Corp should eliminate its dual-class share structure, saying it gives too much influence to the family of Rupert Murdoch.\\nThe dual-class structure isn’t in the best interest of shareholders and doesn’t reflect best-in-class corporate-governance practices, Starboard, which has a stake in The Wall Street Journal parent, said in a letter to shareholders. \\nIt cited dynamics between Chairman Emeritus Rupert Murdoch and his children, who are in the midst of a legal fight over control of the ...   \n",
      "2      Advertisement\\nBEST OF\\nArts in Review\\nThe 15 Best Movies and TV Shows of March\\n‘Caravaggio 2025’ Review\\n‘Sable, Fable’ Review\\nARTS & CULTURE\\nFINE ART\\nART REVIEW\\nFollow\\n‘Lee Krasner: Geometries of Expression’ Review: A Painter’s Patterns in Ogunquit\\nMaine’s Ogunquit Museum of American Art focuses on the artist’s exploratory early career as well as works by her contemporaries, offering an intriguing prehistory of Abstract Expressionism.\\nBy Judith H. Dobrzynski\\nSept. 9, 2024 4:23 pm ET\\n6\\nGift unlocked article\\nListen\\n(7 min)\\nInstallation view of the exhibition. PHOTO: ANNABELLE COLLETTE\\nOgunquit, Maine\\nBefore Lee Krasner (1908-1984) became known for her large-scale, rhythmic all-over paintings, like “Gaea” (1966) at the Museum of Modern Art and “The Seasons” (1957) at the Whitney Museum; before she created her breakout “Little Images” series (1946-49) of intimate, textured works that have been likened to mosaics and hieroglyphics; and before, in 1942, she met her hus...   \n",
      "3      Advertisement\\nBUSINESS\\nMEDIA\\nFight With Disney Risks ‘Monday Night Football’ for DirecTV Subscribers\\nTwo sides remain far apart in channel-carriage negotiations, with holdups over fee increases and distribution guarantees\\nBy\\nJoe Flint\\nFollow\\nSept. 9, 2024 4:31 pm ET\\nGift unlocked article\\nListen\\n(4 min)\\nPeople at both companies don’t anticipate a deal in time for Monday night’s ESPN game. PHOTO: ROBIN ALAM/ISI PHOTOS/GETTY IMAGES\\nMore than 11 million DirecTV subscribers are likely to miss out on ESPN’s telecast of the season’s first “Monday Night Football” game as a contract dispute between the satellite broadcaster and Disney DIS -0.40%\\ndecrease; red down pointing triangle\\nenters its second week. \\nThe two sides continue to negotiate, but remain far apart on a new distribution contract that would return more than a dozen Disney channels including ESPN, ABC-owned TV stations and FX to DirecTV subscribers. The channels went dark on DirecTV’s satellite and streaming ser...   \n",
      "4      Advertisement\\nOPINION\\nBEST OF THE WEB\\nDick Cheney’s Bad Timing\\nSuccess is elusive on his signature project.\\nBy\\nJames Freeman\\nFollow\\nSept. 9, 2024 4:33 pm ET\\n1307\\nGift unlocked article\\nListen\\n(8 min)\\nThen-Rep. Liz Cheney (R.,Wyo.) arrives with her father, former Vice President Dick Cheney, to vote at the Teton County Library in Jackson Hole during the Republican primary election in August of 2022. PHOTO: JABIN BOTSFORD/ASSOCIATED PRESS\\nNow this is awkward. Current Vice President Kamala Harris has received the endorsement of former Vice President Dick Cheney just as more bad news arrives about the progress of his signature project.\\nLike Vice President Harris, former Vice President Cheney has spent decades in politics. The incumbent vice president now labors to persuade voters that she had nothing to do with the way America exited Afghanistan. The former vice president, for his part, will forever be known for helping America enter Iraq. Now more than two decades after t...   \n",
      "...                                                                                                                                                                                                                                                                                                                                                                                                                                                                                                                                                                                                                                                                                                                                                                                                                                                                                                                                                                                                                                        ...   \n",
      "22682  Israel Reshuffles Forces, Prepares for Long-Term Conflict in Gaza\\nResisting pressure from U.S. to wind down the war, Israel looks to sustain lower-intensity fighting\\nIsraeli soldiers organizing munitions Monday along Israel’s southern border with the Gaza Strip. AMIR LEVY/GETTY IMAGES\\nBy Carrie Keller-Lynn, Saeed ShahFollow\\nand Anat PeledFollow\\nUpdated Jan. 1, 2024 5:33 pm ET\\nSAVE\\nSHARE\\nTEXT\\nListen to article\\nLength\\n(11 minutes)\\nQueue\\nExplore Audio Center\\nTEL AVIV—Israel began preparations for prolonged fighting in the Gaza Strip, reshuffling forces as it weighs how to sustain lower-intensity fighting over the long term.\\nIsrael’s top general said that it would take at least several more months to destroy Hamas’s military capabilities in the enclave.\\nOn Monday, Israel said it would adjust its ground-force composition in Gaza, with plans to rotate five brigades—estimated to be thousands of troops—out of the Gaza Strip this week, some of which might be replaced. The mi...   \n",
      "22683  Advertisement\\nOPINION\\nREVIEW & OUTLOOK\\nFollow\\nXi Jinping Says Happy New Year\\nChina’s leader tries to influence Taiwan’s Jan. 13 election.\\nBy\\nThe Editorial Board\\nFollow\\nJan. 1, 2024 5:43 pm ET\\n129\\nGift unlocked article\\nListen\\n(2 min)\\nChinese President Xi Jinping delivers 2024 New Year address, Beijing, Dec. 31, 2023 PHOTO: WU HAO/SHUTTERSTOCK\\nChina’s Supreme Leader Xi Jinping offered his traditional New Year’s greeting Monday with a warning. “The reunification of the motherland is a historical inevitability,” Mr. Xi said, according to the Chinese-language version documented by various news sources.\\n“Compatriots on both sides of the Taiwan Strait should be bound by a common sense of purpose and share in the glory of the rejuvenation of the Chinese nation,” he added. The official English translation wrote “all Chinese” rather than “compatriots,” according to a Reuters dispatch.\\nThe language comes 12 days before Taiwan’s voters go to the polls in a hotly contested thre...   \n",
      "22684  Advertisement\\nOPINION\\nREVIEW & OUTLOOK\\nFollow\\nDouble Dipping in Opioid Lawsuits\\nOptumRx seeks to disqualify Motley Rice for a conflict of interest.\\nBy\\nThe Editorial Board\\nFollow\\nJan. 1, 2024 5:45 pm ET\\n116\\nGift unlocked article\\nListen\\n(3 min)\\nPHOTO: ANDREW KELLY/REUTERS\\nThe plaintiffs bar never met a business it wouldn’t sue, and now the lawyers are using government authority to pursue private interests. In their latest business model, trial lawyers are hired by state attorneys general to help prosecute public lawsuits then use it to the advantage of their private lawsuits. Kudos to one company for pushing back.\\nIn December pharmacy benefit manager OptumRx filed a motion in federal court in Ohio to disqualify Motley Rice, a South Carolina plaintiffs firm suing the company in multidistrict opioid litigation. Motley has been retained by state attorneys general and city prosecutors in Washington, D.C., Hawaii and Chicago to handle the government’s litigation, but it co...   \n",
      "22685  Advertisement\\nOPINION\\nREVIEW & OUTLOOK\\nFollow\\nThe Military’s Phantom ‘Extremists’\\nAn independent study puts to rest another false media narrative.\\nBy\\nThe Editorial Board\\nFollow\\nJan. 1, 2024 5:45 pm ET\\n834\\nGift unlocked article\\nListen\\n(3 min)\\nSecretary of Defense Lloyd Austin PHOTO: SAUL LOEB/AGENCE FRANCE-PRESSE/GETTY IMAGES\\nGood news: The U.S. military isn’t packed with violent extremists. That’s the gist of a new report commissioned by the Pentagon in 2021 and released quietly with little notice in December. The result won’t surprise Americans who have spent time in uniform, but it should calm the media frenzy about right-wing radicals in the armed forces.\\nOPINION: POTOMAC WATCH\\nClaudine Gay Steps Down as Harvard's President\\n25:49\\n1x\\nSUBSCRIBE\\nAdd to Queue\\nExplore Audio Center\\nAfter reports that some service members participated in the Jan. 6 riot, Defense Secretary Lloyd Austin ordered an independent study to get “greater fidelity” on extremism in the rank...   \n",
      "22686  Advertisement\\nBUSINESS\\nTELECOM\\nBaidu Terminates $3.6B Deal to Buy JOYY’s China Live-Streaming Business\\nAs of the end of December, the closing conditions for the share purchase agreement had yet to be fully satisfied, Baidu said\\nBy\\nP.R. Venkat\\nFollow\\nJan. 1, 2024 6:44 pm ET\\nGift unlocked article\\nListen\\n(2 min)\\nThe Baidu Inc. logo atop the company’s R&D Center in Shanghai, China. PHOTO: QILAI SHEN/BLOOMBERG NEWS\\nBaidu BIDU -1.44%\\ndecrease; red down pointing triangle\\nhas called off a $3.6 billion deal to buy JOYY’s video-based entertainment live-streaming business in China.\\nAs of the end of December, the closing conditions for the share purchase agreement had yet to be fully satisfied, Baidu said in a filing late Monday.\\nSome of the closing conditions in the share purchase agreement included obtaining regulatory approvals from governmental authorities.\\n“The company seeks to discuss with JOYY the next steps following the termination of the share purchase agreement,” t...   \n",
      "\n",
      "                                                                                  title  \\\n",
      "0           SEC Fines Seven Companies for Violations to Whistleblower-Protections Rules   \n",
      "1                      Starboard Calls on News Corp to Scrap Dual-Class Share Structure   \n",
      "2      ‘Lee Krasner: Geometries of Expression’ Review: A Painter’s Patterns in Ogunquit   \n",
      "3               Fight With Disney Risks ‘Monday Night Football’ for DirecTV Subscribers   \n",
      "4                                                              Dick Cheney’s Bad Timing   \n",
      "...                                                                                 ...   \n",
      "22682                 Israel Reshuffles Forces, Prepares for Long-Term Conflict in Gaza   \n",
      "22683                                                    Xi Jinping Says Happy New Year   \n",
      "22684                                                 Double Dipping in Opioid Lawsuits   \n",
      "22685                                               The Military’s Phantom ‘Extremists’   \n",
      "22686           Baidu Terminates $3.6B Deal to Buy JOYY’s China Live-Streaming Business   \n",
      "\n",
      "                                                                                                                                 link  \n",
      "0                   https://www.wsj.com/articles/sec-fines-seven-companies-for-violations-to-whistleblower-protections-rules-1e59f6f8  \n",
      "1                        https://www.wsj.com/business/media/starboard-calls-on-news-corp-to-scrap-dual-class-share-structure-df5b0dea  \n",
      "2      https://www.wsj.com/arts-culture/fine-art/lee-krasner-geometries-of-expression-review-a-painters-patterns-in-ogunquit-bf2cf52a  \n",
      "3      https://www.wsj.com/business/media/directv-subscribers-might-miss-monday-night-football-as-fight-with-disney-drags-on-0450a680  \n",
      "4                                                                        https://www.wsj.com/opinion/dick-cheneys-bad-timing-d251f830  \n",
      "...                                                                                                                               ...  \n",
      "22682                 https://www.wsj.com/world/middle-east/israel-reshuffles-forces-prepares-for-long-term-conflict-in-gaza-74c87309  \n",
      "22683                                             https://www.wsj.com/opinion/xi-jinping-says-happy-new-year-taiwan-election-bd8cf5a9  \n",
      "22684                                      https://www.wsj.com/opinion/double-dipping-in-opioid-lawsuits-optumrx-motley-rice-6dab5dcb  \n",
      "22685            https://www.wsj.com/opinion/military-extremists-report-institute-for-defense-analyses-pentagon-lloyd-austin-97619f4d  \n",
      "22686             https://www.wsj.com/business/telecom/baidu-terminates-3-6b-deal-to-buy-joyys-china-live-streaming-business-d68f9d86  \n",
      "\n",
      "[22687 rows x 5 columns]\n"
     ]
    }
   ],
   "source": [
    "# Überprüft, ob Artikel in der Datenbank vorhanden sind\n",
    "import sqlite3\n",
    "import pandas as pd\n",
    "\n",
    "# Pfad zur Datenbank\n",
    "DB_PATH = r\"C:\\Users\\PC\\Desktop\\Masterarbeit\\Code\\articlesWSJ.db\"\n",
    "\n",
    "# Verbindung herstellen\n",
    "conn = sqlite3.connect(DB_PATH)\n",
    "\n",
    "query = \"\"\"\n",
    "SELECT a.article_id, a.scanned_time, corpus, a.title, i.link\n",
    "FROM article a\n",
    "JOIN articles_index i ON a.index_id = i.id\n",
    "WHERE a.corpus != 'not found'\n",
    "ORDER BY a.scanned_time DESC\n",
    "\"\"\"\n",
    "\n",
    "df = pd.read_sql_query(query, conn)\n",
    "conn.close()\n",
    "\n",
    "print(f\"🔍 Gefundene Artikel mit 'not found': {len(df)}\\n\")\n",
    "pd.set_option('display.max_colwidth', 1000)\n",
    "print(df)\n",
    "\n"
   ]
  },
  {
   "cell_type": "code",
   "execution_count": 7,
   "metadata": {},
   "outputs": [
    {
     "name": "stdout",
     "output_type": "stream",
     "text": [
      "🔗 Insgesamt gespeicherte Artikel-Links: 27487\n"
     ]
    }
   ],
   "source": [
    "#überprüft gesamtzahl der links\n",
    "import sqlite3\n",
    "\n",
    "conn = sqlite3.connect(\"articlesWSJ.db\")\n",
    "c = conn.cursor()\n",
    "\n",
    "# Alle gespeicherten Links zählen\n",
    "c.execute(\"SELECT COUNT(*) FROM articles_index\")\n",
    "total_links = c.fetchone()[0]\n",
    "\n",
    "print(f\"🔗 Insgesamt gespeicherte Artikel-Links: {total_links}\")\n",
    "\n",
    "conn.close()\n",
    "\n"
   ]
  }
 ],
 "metadata": {
  "kernelspec": {
   "display_name": "Python 3",
   "language": "python",
   "name": "python3"
  },
  "language_info": {
   "codemirror_mode": {
    "name": "ipython",
    "version": 3
   },
   "file_extension": ".py",
   "mimetype": "text/x-python",
   "name": "python",
   "nbconvert_exporter": "python",
   "pygments_lexer": "ipython3",
   "version": "3.11.9"
  }
 },
 "nbformat": 4,
 "nbformat_minor": 2
}
