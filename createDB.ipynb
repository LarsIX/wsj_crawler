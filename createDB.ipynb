{
 "cells": [
  {
   "cell_type": "code",
   "execution_count": 2,
   "metadata": {},
   "outputs": [
    {
     "name": "stdout",
     "output_type": "stream",
     "text": [
      "DB and tables created\n"
     ]
    }
   ],
   "source": [
    "import sqlite3\n",
    "\n",
    "name = 'articlesLAT.db'\n",
    "conn = sqlite3.connect(name)\n",
    "\n",
    "c = conn.cursor()\n",
    "\n",
    "# Table \"articles_index\"\n",
    "c.execute('''CREATE TABLE IF NOT EXISTS articles_index (\n",
    "          id INTEGER PRIMARY KEY AUTOINCREMENT, \n",
    "          \n",
    "          year TEXT, \n",
    "          month TEXT, \n",
    "          day TEXT, \n",
    "          \n",
    "          headline TEXT, \n",
    "          article_time TEXT,\n",
    "          \n",
    "          keyword TEXT,\n",
    "          link TEXT, \n",
    "          \n",
    "          scraped_at TEXT,\n",
    "          scanned_status INTEGER)''')\n",
    "\n",
    "# Table \"article\"\n",
    "c.execute('''CREATE TABLE IF NOT EXISTS article (\n",
    "                article_id INTEGER PRIMARY KEY AUTOINCREMENT,\n",
    "                image_src TEXT,\n",
    "\n",
    "                scanned_time TEXT,\n",
    "                title TEXT,\n",
    "                sub_title TEXT,\n",
    "\n",
    "\n",
    "                corpus TEXT,\n",
    "                index_id INTEGER,\n",
    "\n",
    "                FOREIGN KEY(index_id) REFERENCES articles_index(id))''')\n",
    "\n",
    "\n",
    "c.execute('''CREATE TABLE IF NOT EXISTS exploration (\n",
    "          id INTEGER PRIMARY KEY AUTOINCREMENT,\n",
    "          link TEXT,\n",
    "          \n",
    "          year TEXT, \n",
    "          month TEXT, \n",
    "          day TEXT, \n",
    "          page_num TEXT,\n",
    "          \n",
    "          checked_at TEXT,\n",
    "          values_or_not INTEGER,\n",
    "          count_articles INTEGER\n",
    "          );\n",
    "''')\n",
    "\n",
    "conn.commit()\n",
    "conn.close()\n",
    "\n",
    "print(\"DB and tables created\")\n"
   ]
  },
  {
   "cell_type": "code",
   "execution_count": null,
   "metadata": {},
   "outputs": [
    {
     "name": "stdout",
     "output_type": "stream",
     "text": [
      "📋 Tabellen in der DB: [('articles_index',), ('sqlite_sequence',), ('article',), ('exploration',)]\n",
      "✅ 'articles_index' existiert!\n"
     ]
    }
   ],
   "source": [
    "# Test if the table exists\n",
    "\n",
    "import sqlite3\n",
    "\n",
    "DB_PATH = r\"C:\\Users\\PC\\Desktop\\Masterarbeit\\Code\\LATimes\\articlesLAT.db\"\n",
    "\n",
    "conn = sqlite3.connect(DB_PATH)\n",
    "cursor = conn.cursor()\n",
    "\n",
    "cursor.execute(\"SELECT name FROM sqlite_master WHERE type='table';\")\n",
    "tables = cursor.fetchall()\n",
    "print(\"📋 Tabellen in der DB:\", tables)\n",
    "\n",
    "if ('articles_index',) in tables:\n",
    "    print(\"✅ 'articles_index' existiert!\")\n",
    "else:\n",
    "    print(\"❌ 'articles_index' NICHT gefunden!\")\n",
    "\n",
    "conn.close()"
   ]
  }
 ],
 "metadata": {
  "kernelspec": {
   "display_name": "Python 3",
   "language": "python",
   "name": "python3"
  },
  "language_info": {
   "codemirror_mode": {
    "name": "ipython",
    "version": 3
   },
   "file_extension": ".py",
   "mimetype": "text/x-python",
   "name": "python",
   "nbconvert_exporter": "python",
   "pygments_lexer": "ipython3",
   "version": "3.11.9"
  }
 },
 "nbformat": 4,
 "nbformat_minor": 2
}
