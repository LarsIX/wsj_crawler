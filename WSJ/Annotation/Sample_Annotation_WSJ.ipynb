{
 "cells": [
  {
   "cell_type": "code",
   "execution_count": 18,
   "id": "341ea96b",
   "metadata": {},
   "outputs": [],
   "source": [
    "import pandas as pd\n",
    "import numpy as np\n",
    "import sqlite3\n",
    "from IPython.display import display\n",
    "import re\n",
    "\n",
    "# import the annotator function\n",
    "from annotator_function import annotate_articles_with_hype as af\n",
    "\n",
    "# import the mentions ai function\n",
    "from mentions_ai import flag_ai_mentions\n",
    "\n",
    "# import cleaning function\n",
    "from text_cleaner_WSJ import clean_article_text"
   ]
  },
  {
   "cell_type": "markdown",
   "id": "2c71a4e6",
   "metadata": {},
   "source": [
    "Preparing the First Sample\n",
    "\n",
    "The initial sample was drawn from the database articlesWSJ_clean_1.db. As the project progressed, an optimized version — articlesWSJ_clean_final.db — was created to capture articles scraped for days with n < 30 and subsequently apply cleaning (see clean_database_WSJ.ipynb & days_leftover_WSJ.ipynb). For full reproducibility, all database references used during sampling are explicitly included in the code."
   ]
  },
  {
   "cell_type": "code",
   "execution_count": 89,
   "id": "ce955ac3",
   "metadata": {},
   "outputs": [
    {
     "name": "stdout",
     "output_type": "stream",
     "text": [
      "Index(['article_id', 'image_src', 'scanned_time', 'title', 'sub_title',\n",
      "       'corpus', 'index_id'],\n",
      "      dtype='object')\n",
      "   article_id image_src         scanned_time  \\\n",
      "0       13068            2025-04-01 09:47:17   \n",
      "1       13069            2025-04-01 09:47:27   \n",
      "2       13070            2025-04-01 09:47:37   \n",
      "3       13071            2025-04-01 09:47:49   \n",
      "4       13072            2025-04-01 09:47:59   \n",
      "\n",
      "                                                                     title  \\\n",
      "0  Baidu Terminates $3.6B Deal to Buy JOYY’s China Live-Streaming Business   \n",
      "1                                      The Military’s Phantom ‘Extremists’   \n",
      "2                                        Double Dipping in Opioid Lawsuits   \n",
      "3                                           Xi Jinping Says Happy New Year   \n",
      "4        Israel Reshuffles Forces, Prepares for Long-Term Conflict in Gaza   \n",
      "\n",
      "                                                                                                                      sub_title  \\\n",
      "0  As of the end of December, the closing conditions for the share purchase agreement had yet to be fully satisfied, Baidu said   \n",
      "1                                                              An independent study puts to rest another false media narrative.   \n",
      "2                                                           OptumRx seeks to disqualify Motley Rice for a conflict of interest.   \n",
      "3                                                                  China’s leader tries to influence Taiwan’s Jan. 13 election.   \n",
      "4                           Resisting pressure from U.S. to wind down the war, Israel looks to sustain lower-intensity fighting   \n",
      "\n",
      "                                                                                                                                                                                                                                                                                                                                                                                                                                                                                                                                                                                                                                                                                                                                                                                                                                                                                                                                                                                                                                                                                                                                                                                                                                                                                                                                                                                                                                                                                                                                                                                                                                                                                                                                                                                                                                                                                                                                                                                                                                                                                                                                                                                                                                                                                                                                                                                                                                                                                                                                                                                                                                                                                                                                                                                                                                                                                                                                                                                                                                                                                                                                                                                                                                                                                                                                                                                                                                                                                                                                                                                                                                                                                                                                                                                                                                                                                                                                                                                                                                                                                                                                                                                                                                                                                                                                                                                                                                                                                                                                                                                                                                                                                                                                                                                                                                                                                                                                                                                                                                                                                                                                                                                                                                                                                                                                                                                                                                                                                                                                                                                                                                                                                                                                                                                                                                                                                                                                                                                                                                                                                                                                                                                                                                                                                                                                                                                                                                                                                                                                                                                                                                                                                                                                                                                                                                                                                                                                                                                                                                                                                                                                                                                                                                                                                                                                                                                                                                                                                                                                                                                                                                                                                                                                                                                                                                                                                                                                                                                                                                                                                                                                                                                                                                                                                                                                                                                                                                                                                                                                                                                                                                                                                                                                                                                                                                                                                                                                                                                                                                                                                                                                                                                                                                                                                                                                                                                                                                                                                                                                                                                                                                                                                                                                                                                                                                                                                                                                                                                                                                                                                                                                                                                                                                                                                                                                                                                                                                                                                                                                                                                                                                                                                                                                                                                                                                                                                                                                                                                                                                                                                                                                                                                                                                                                                                                                                                                                                                                                                                                                                                                                                                                                                                                                                                                                                                                                                                                                                                                                                                                                                                                                                                                                                                                                                                                                                                                                                                                                                                                                                                                                                                                                           corpus  \\\n",
      "0                                                                                                                                                                                                                                                                                                                                                                                                                                                                                                                                                                                                                                                                                                                                                                                                                                                                                                                                                                                                                                                                                                                                                                                                                                                                                                                                                                                                                                                                                                                                                                                                                                                                                                                                                                                                                                                                                                                                                                                                                                                                                                                                                                                                                                                                                                                                                                                                                                                                                                                                                                                                                                                                                                                                                                                                                                                                                                                                                                                                                                                                                                                                                                                                                                                                                                                                                                                                                                                                                                                                                                                                                                                                                                                                                                                                                                                                                                                                                                                                                                                                                                                                                                                                                                                                                                                                                                                                                                                                                                                                                                                                                                                                                                                                                                                                                                                                                                                                                                                                                                                                                                                                                                                                                                                                                                                                                                                                                                                                                                                                                                                                                                                                                                                                                                                                                                                                                                                                                                                                                                                                                                                                                                                                                                                                                                                                                                                                                                                                                                                                                                                                                                                                                                                                                                                                                                                                                                                                                                                                                                                                                                                                                                                                                                                                                                                                                                                                                                                                                                                                                                                                                                                                                                                                                                                                                                                                                                                                                                                                                                                                                                                                                                                                                                                                                                                                                                                                                                                                                                                                                                                                                                                                                                                                                                                                                                                                                                                                                                                                                                                                                                                                                                                                                                                                                                                                                                                                                                                                                                                                                                                                                                                                                                                                                                                                                                                                                                                                                                                                                                                                                                                                                                                                                                                                                                                                                                                                                               Advertisement\\nBUSINESS\\nTELECOM\\nBaidu Terminates $3.6B Deal to Buy JOYY’s China Live-Streaming Business\\nAs of the end of December, the closing conditions for the share purchase agreement had yet to be fully satisfied, Baidu said\\nBy\\nP.R. Venkat\\nFollow\\nJan. 1, 2024 6:44 pm ET\\nGift unlocked article\\nListen\\n(2 min)\\nThe Baidu Inc. logo atop the company’s R&D Center in Shanghai, China. PHOTO: QILAI SHEN/BLOOMBERG NEWS\\nBaidu BIDU -1.44%\\ndecrease; red down pointing triangle\\nhas called off a $3.6 billion deal to buy JOYY’s video-based entertainment live-streaming business in China.\\nAs of the end of December, the closing conditions for the share purchase agreement had yet to be fully satisfied, Baidu said in a filing late Monday.\\nSome of the closing conditions in the share purchase agreement included obtaining regulatory approvals from governmental authorities.\\n“The company seeks to discuss with JOYY the next steps following the termination of the share purchase agreement,” the Chinese tech company said.\\nIn a separate statement Monday, Nasdaq-listed JOYY said it is seeking legal advice and will consider all options in response to Baidu’s notice to terminate the deal.\\nJOYY announced the deal nearly four years ago, under which Baidu’s acquisition would have included the YY mobile app, YY.com website, and PC YY.\\nThe Nasdaq-listed company operates several social products, including Bigo Live, Likee for short-form videos, Hago for multiplayer social networking, and an instant messaging product.\\nWrite to P.R. Venkat at Venkat.PR@wsj.com\\nAdvertisement\\nVideos\\nAdvertisement\\nMost Popular News\\nMarine Le Pen Found Guilty of Embezzlement, Banned From Next Election\\nIf Vaccines Don’t Cause Autism, What Does?\\nMike Waltz Is Losing Support Inside the White House\\nNo More Mr. Nice Guy. In Fighting Trump, Canada Presents ‘Mr. Elbows.’\\nHow to Prepare Your Portfolio for the Next Market Mess\\nMost Popular\\nOPINION\\nRFK Jr. Is Already Vindicating His Critics\\nWhy Judge Boasberg’s Deportation Order Is Legally Invalid\\nA $6 Trillion Trump Tax Increase?\\nWhen You’ve Lost the New York Times…\\nLosing My Nonreligion\\nRECOMMENDED VIDEOS   \n",
      "1                                                                                                                                                                                                                                                                                                                                                                                                                                                                                                                                                                                                                                                                                                                                                                                                                                                                                                                                                                                                                                                                                                                                                                                                                                                                                                                                                                                                                                                                                                                                                                                                                                                                                                                                                                                                                                                                                                                                                                                                                                                                                                                                                                                                                                                                                                                                                                                                                                                                                                                                                                                                                                                                                                                                                                                                                                                                                                                                                                                                                                                                                                                                                                                                                                                                                                                                                                                                                                                                                                                                                                                                                                                                                                                                                                                                                                                                                                                                                                                                                                                                                                                                                                                                                                                                                                                                                                                                                                                                                                                                                                                                                                                                                                                                                                                                                                                                                                                                                                                                                                                                                                                                                                                                                                                                                                                                                                                                                                                                                                                                                                                                                                                                                                                                                                                                                                                                                                                                                                                                                                                                                                                                                                                                                                                                                                                                                                                                                                                                                                                                                                                                                                                                                                                                                                                                                                                                                                                                                                                                                                                                                                                                                                                                                                                                                                                                                                                                                                                                                                            Advertisement\\nOPINION\\nREVIEW & OUTLOOK\\nFollow\\nThe Military’s Phantom ‘Extremists’\\nAn independent study puts to rest another false media narrative.\\nBy\\nThe Editorial Board\\nFollow\\nJan. 1, 2024 5:45 pm ET\\n834\\nGift unlocked article\\nListen\\n(3 min)\\nSecretary of Defense Lloyd Austin PHOTO: SAUL LOEB/AGENCE FRANCE-PRESSE/GETTY IMAGES\\nGood news: The U.S. military isn’t packed with violent extremists. That’s the gist of a new report commissioned by the Pentagon in 2021 and released quietly with little notice in December. The result won’t surprise Americans who have spent time in uniform, but it should calm the media frenzy about right-wing radicals in the armed forces.\\nOPINION: POTOMAC WATCH\\nClaudine Gay Steps Down as Harvard's President\\n25:49\\n1x\\nSUBSCRIBE\\nAdd to Queue\\nExplore Audio Center\\nAfter reports that some service members participated in the Jan. 6 riot, Defense Secretary Lloyd Austin ordered an independent study to get “greater fidelity” on extremism in the ranks. The think tank tasked with the report, the Institute for Defense Analyses (IDA), “found no evidence that the number of violent extremists in the military is disproportionate” to U.S. society. A review of Pentagon data suggested “fewer than 100 substantiated cases per year of extremist activity by members of the military in recent years,” the report says.\\nThat figure could include a range of conduct and ideological bent, not simply the white supremacy floated in the press. Take court martials. Researchers found that “the prevalence of extremist and gang-related activity that are reflected in court-martial opinions is limited to fewer than 20 cases” since 2012. Gang activity isn’t typically political and, excluding those cases, the number falls to one a year.\\nOne useful conclusion is that the military doesn’t need a new section of the Uniform Code of Military Justice to punish what few “extremist” criminal cases exist. Researchers note that commanders can rely on Article 116 (riot or breach of peace); Article 88 (contempt toward officials); Article 109 (destruction or damage to property); Article 115 (communication of threats), among others such as assault.\\nEven the Jan. 6 story isn’t what you’ve heard. IDA found that “of the more than 700 federal cases in which charges were publicly available a year after these events, fewer than ten” were in the military at the time. There’s “no evidence that service members were charged at a different rate than the members of the general population.” The picture changes when veterans are included, though the Pentagon doesn’t command former service members who are civilians.\\nBut the inquisition into extremism does polarize the active force. Researchers deserve credit for noting that “the risk to the military from widespread polarization and division in the ranks may be a greater risk than the radicalization of a few service members.”\\nThis is a welcome rebuke to the narrative that the military is a breeding ground for domestic terrorism. The press carried that story everywhere in 2021, including calls for tips: “Have You Witnessed Far-Right Extremism Inside the Military?”\\nBut the press interest in military extremism has outstripped the actual extremists available to cover. A Rand survey found that, among veterans, support for “extremist groups and extremist ideals” is similar to or less than the general public.\\nThe U.S. military reflects the strengths and weaknesses of American society. But it has a strong culture that keeps men and women from joining the political fringes: Uniting members of all races and creeds in a common purpose, and steeping them in the military’s rich tradition of duty, honor, country.\\nAdvertisement\\nThe '2023 Reagan National Defense Survey' highlights China as the greatest national security threat to the U.S. and finds strong support for arming Ukraine, Israel and Taiwan. Images: Zuma Press/AFP/Getty Images Composite: Mark Kelly\\nAppeared in the January 2, 2024, print edition as 'The Military’s Phantom ‘Extremists’'.\\nSHOW CONVERSATION (834)\\nVideos\\nAdvertisement\\nMost Popular News\\nMarine Le Pen Found Guilty of Embezzlement, Banned From Next Election\\nIf Vaccines Don’t Cause Autism, What Does?\\nMike Waltz Is Losing Support Inside the White House\\nNo More Mr. Nice Guy. In Fighting Trump, Canada Presents ‘Mr. Elbows.’\\nHow to Prepare Your Portfolio for the Next Market Mess\\nMost Popular\\nOPINION\\nRFK Jr. Is Already Vindicating His Critics\\nWhy Judge Boasberg’s Deportation Order Is Legally Invalid\\nA $6 Trillion Trump Tax Increase?\\nWhen You’ve Lost the New York Times…\\nLosing My Nonreligion\\nFurther Reading\\nA Flowing, Finely Textured Premiere at the New York Philharmonic\\nRoberta Flack, Who Won Back-to-Back Grammys for Record of the Year, Dies at 88\\nBob Dylan’s ‘Blood on the Tracks’ Turns 50\\n‘Hugh Jackman: From New York, With Love’ Review: A Great Showman\\nNordic Soundscapes Festival Review: Musical Fire in the Minnesota Cold   \n",
      "2                                                                                                                                                                                                                                                                                                                                                                                                                                                                                                                                                                                                                                                                                                                                                                                                                                                                                                                                                                                                                                                                                                                                                                                                                                                                                                                                                                                                                                                                                                                                                                                                                                                                                                                                                                                                                                                                                                                                                                                                                                                                                                                                                                                                                                                                                                                                                                                                                                                                                                                                                                                                                                                                                                                                                                                                                                                                                                                                                                                                                                                                                                                                                                                                                                                                                                                                                                                                                                                                                                                                                                                                                                                                                                                                                                                                                                                                                                                                                                                                                                                                                                                                                                                                                                                                                                                                                                                                                                                                                                                                                                                                                                                                                                                                                                                                                                                                                                                                                                                                                                                                                                                                                                                                                                                                                                                                                                                                                                                                                                                                                                                                                                                                                                                                                                                                                                                                                                                                                                                                                                                                                                                                                                                                                                                                                                                                                                                                                                                                                                                                                                                                                                                                                                                                                                                                                                                                                                                                                                                                                                                                                                                                                                                                                                                                                                                                                                                                                                                                                                                                                                                                                                                                                                                                                                                                                                                                                                                                                              Advertisement\\nOPINION\\nREVIEW & OUTLOOK\\nFollow\\nDouble Dipping in Opioid Lawsuits\\nOptumRx seeks to disqualify Motley Rice for a conflict of interest.\\nBy\\nThe Editorial Board\\nFollow\\nJan. 1, 2024 5:45 pm ET\\n116\\nGift unlocked article\\nListen\\n(3 min)\\nPHOTO: ANDREW KELLY/REUTERS\\nThe plaintiffs bar never met a business it wouldn’t sue, and now the lawyers are using government authority to pursue private interests. In their latest business model, trial lawyers are hired by state attorneys general to help prosecute public lawsuits then use it to the advantage of their private lawsuits. Kudos to one company for pushing back.\\nIn December pharmacy benefit manager OptumRx filed a motion in federal court in Ohio to disqualify Motley Rice, a South Carolina plaintiffs firm suing the company in multidistrict opioid litigation. Motley has been retained by state attorneys general and city prosecutors in Washington, D.C., Hawaii and Chicago to handle the government’s litigation, but it continues to represent private clients in related litigation.\\nThis double dipping would break the rules of professional conduct in nearly any industry, but it’s an open scandal in the tort business. In a typical arrangement, trial lawyers are hired as “special assistant attorneys general” on a given case, a designation that confers advantages during legal discovery. The lawyers then turn around and share information to benefit private lawsuits where they can make millions in contingency fees.\\nIn its motion to disqualify Motley Rice, OptumRx notes that under the Ohio Rules of Professional Conduct, lawyers are barred from knowingly having “confidential government information about a person, acquired when the lawyer was a public officer or employee” and from representing a “private client whose interests are adverse to that person.”\\nIn its role working on state opioid lawsuits, Motley served subpoenas that required Optum to deliver what it called “wide swaths of confidential business records and testimony.” Faced with the government subpoenas, the company “produced thousands of pages of confidential information” and sent the documents “directly to Motley Rice.” With that information, Motley continued litigating its private cases against Optum and other pharmacy benefit managers on opioid matters.\\nThe Optum motion, along with the consolidated opioid litigation, is before federal Judge Aaron Polster, who has pushed the parties to reach settlements. In a recent telephone hearing, Judge Polster is reported to have told OptumRx lawyer Brian Boone that he should think twice about filing the disqualification motion against the trial lawyers, whom he considers to be cooperative.\\n“Your clients need to understand if they file these motions, it will be very difficult to maintain that level of professional cooperation, and that will clearly have negative repercussions for your clients,” Judge Polster said, according to Law360, a legal news website which got a transcript of the hearing. “I don’t need to spell it out. But if they’re not listening you ought to explain to them exactly what I mean.”\\nThat’s loud and clear. Judge Polster is discouraging Optum’s lawyers from filing a motion that reflects poorly on Motley Rice. But if companies can’t challenge the trial lawyers’ alliance with state attorneys general, they are destined to be saddled with bills for the opioid epidemic regardless of legal liability. The opioid crisis is a tragedy with many causes, but using government authority for the enrichment of the trial bar is not a triumph of justice.\\nAdvertisement\\nJournal Editorial Report: Medicare's \"negotiation\" with pharmaceutical companies will slow the development of new cures. Images: AP/Reuters Composite: Mark Kelly\\nSHOW CONVERSATION (116)\\nVideos\\nAdvertisement\\nMost Popular News\\nMarine Le Pen Found Guilty of Embezzlement, Banned From Next Election\\nIf Vaccines Don’t Cause Autism, What Does?\\nMike Waltz Is Losing Support Inside the White House\\nNo More Mr. Nice Guy. In Fighting Trump, Canada Presents ‘Mr. Elbows.’\\nHow to Prepare Your Portfolio for the Next Market Mess\\nMost Popular\\nOPINION\\nRFK Jr. Is Already Vindicating His Critics\\nWhy Judge Boasberg’s Deportation Order Is Legally Invalid\\nA $6 Trillion Trump Tax Increase?\\nWhen You’ve Lost the New York Times…\\nLosing My Nonreligion\\nFurther Reading\\nOPINION\\n‘Reverse Discrimination’ at the Supreme Court\\nSupreme Court Signals Minority Groups Get No Edge in Bias Suits\\nInside the Elon Musk, Vivek Ramaswamy DOGE Divorce   \n",
      "3                                                                                                                                                                                                                                                                                                                                                                                                                                                                                                                                                                                                                                                                                                                                                                                                                                                                                                                                                                                                                                                                                                                                                                                                                                                                                                                                                                                                                                                                                                                                                                                                                                                                                                                                                                                                                                                                                                                                                                                                                                                                                                                                                                                                                                                                                                                                                                                                                                                                                                                                                                                                                                                                                                                                                                                                                                                                                                                                                                                                                                                                                                                                                                                                                                                                                                                                                                                                                                                                                                                                                                                                                                                                                                                                                                                                                                                                                                                                                                                                                                                                                                                                                                                                                                                                                                                                                                                                                                                                                                                                                                                                                                                                                                                                                                                                                                                                                                                                                                                                                                                                                                                                                                                                                                                                                                                                                                                                                                                                                                                                                                                                                                                                                                                                                                                                                                                                                                                                                                                                                                                                                                                                                                                                                                                                                                                                                                                                                                                                                                                                                                                                                                                                                                                                                                                                                                                                                                                                                                                                                                                                                                                                                                                                                                                                                                                                                                                                                                                                                                                                                                                                                                                                                                                                                                                                                                                                                                                                                                                                                                                                                                                                                                                                                                                                                                                                                                                                                                                                                                                                                                                                                                                                                                                                                                                                                                                                                                                                                                                                                                                                                                                                                                                                                                                                                                                                                                                                                                                                                                                                                                                                                                              Advertisement\\nOPINION\\nREVIEW & OUTLOOK\\nFollow\\nXi Jinping Says Happy New Year\\nChina’s leader tries to influence Taiwan’s Jan. 13 election.\\nBy\\nThe Editorial Board\\nFollow\\nJan. 1, 2024 5:43 pm ET\\n129\\nGift unlocked article\\nListen\\n(2 min)\\nChinese President Xi Jinping delivers 2024 New Year address, Beijing, Dec. 31, 2023 PHOTO: WU HAO/SHUTTERSTOCK\\nChina’s Supreme Leader Xi Jinping offered his traditional New Year’s greeting Monday with a warning. “The reunification of the motherland is a historical inevitability,” Mr. Xi said, according to the Chinese-language version documented by various news sources.\\n“Compatriots on both sides of the Taiwan Strait should be bound by a common sense of purpose and share in the glory of the rejuvenation of the Chinese nation,” he added. The official English translation wrote “all Chinese” rather than “compatriots,” according to a Reuters dispatch.\\nThe language comes 12 days before Taiwan’s voters go to the polls in a hotly contested three-way race for President. Chinese propaganda is working hard against front-runner Lai Ching-te, the current vice president and presidential nominee of the ruling Democratic Progressive Party. Mr. Lai and his party are obstacles to coerced reunification.\\nOne big question for the New Year is how does China react if Mr. Lai wins? Does Mr. Xi tell his military to increase its harassment of Taiwan airspace and waters? Or, with two hot wars around the word and an election year in the U.S. that is likely to be highly divisive, will he try something more daring?\\nThe White House thinks its recent parlays with Beijing have put U.S.-China bilateral relations on a more stable course. Perhaps that’s right. But it’s worth recalling that, in the Chinese Lunar Calendar, 2024 is the Year of the Dragon, and to prepare accordingly.\\nAdvertisement\\nWSJ Opinion: Our Predictions for 2024\\nPlay video: WSJ Opinion: Our Predictions for 2024\\nJournal Editorial Report: Best guesses of what's to come from Kim Strassel, Bill McGurn and Dan Henninger. Image: Ralph Lauer/Shutterstock\\nAppeared in the January 2, 2024, print edition as 'Xi Jinping Says Happy New Year'.\\nSHOW CONVERSATION (129)\\nVideos\\nAdvertisement\\nMost Popular News\\nMarine Le Pen Found Guilty of Embezzlement, Banned From Next Election\\nIf Vaccines Don’t Cause Autism, What Does?\\nMike Waltz Is Losing Support Inside the White House\\nNo More Mr. Nice Guy. In Fighting Trump, Canada Presents ‘Mr. Elbows.’\\nHow to Prepare Your Portfolio for the Next Market Mess\\nMost Popular\\nOPINION\\nRFK Jr. Is Already Vindicating His Critics\\nWhy Judge Boasberg’s Deportation Order Is Legally Invalid\\nA $6 Trillion Trump Tax Increase?\\nWhen You’ve Lost the New York Times…\\nLosing My Nonreligion\\nFurther Reading\\nOPINION\\nWhy Beijing Favors a ‘Nuclear Free’ Taiwan\\nOPINION\\nChina’s Rehearsals for a Blockade of Taiwan\\nOPINION\\nThree Steps to Build America’s Naval Power   \n",
      "4  Israel Reshuffles Forces, Prepares for Long-Term Conflict in Gaza\\nResisting pressure from U.S. to wind down the war, Israel looks to sustain lower-intensity fighting\\nIsraeli soldiers organizing munitions Monday along Israel’s southern border with the Gaza Strip. AMIR LEVY/GETTY IMAGES\\nBy Carrie Keller-Lynn, Saeed ShahFollow\\nand Anat PeledFollow\\nUpdated Jan. 1, 2024 5:33 pm ET\\nSAVE\\nSHARE\\nTEXT\\nListen to article\\nLength\\n(11 minutes)\\nQueue\\nExplore Audio Center\\nTEL AVIV—Israel began preparations for prolonged fighting in the Gaza Strip, reshuffling forces as it weighs how to sustain lower-intensity fighting over the long term.\\nIsrael’s top general said that it would take at least several more months to destroy Hamas’s military capabilities in the enclave.\\nOn Monday, Israel said it would adjust its ground-force composition in Gaza, with plans to rotate five brigades—estimated to be thousands of troops—out of the Gaza Strip this week, some of which might be replaced. The military has also recalibrated the types of troops required, now relying more heavily on commando and combat-engineering forces, as Israel increasingly tries to penetrate subterranean tunnel infrastructure and hunt down senior Hamas leadership.\\n“These adaptations are designed to ensure planning and preparation for 2024,” Daniel Hagari, the Israeli military’s chief spokesperson, said Sunday night. “The war’s goals require prolonged fighting, and we are preparing accordingly.”\\nThe prospect of an extended period of hostilities in Gaza comes amid friction between Israel and the U.S., its main ally, which has been pushing the government of Prime Minister Benjamin Netanyahu to begin winding down a war that has devastated the enclave and killed thousands.\\nOne U.S. official said that Israel’s decision to change the composition of its forces in Gaza appears to be in line with a broader shift the Biden administration has been advocating toward the more discriminate use of force on the part of Israel’s military\\nPalestinians in Rafah, a city in Gaza, waited Sunday to receive food prepared at a charity kitchen. PHOTO: MOHAMMED TALATENE/DPA/ZUMA PRESS\\n“This appears to be the start of the gradual shift to lower-intensity operations in the north that we have been encouraging, which reflects the success the IDF has had in dismantling Hamas’s military capabilities there,” the official said, referring to Israel Defense Forces.\\nOther Western officials were more cautious, saying that more time was needed to see how the next phase of Israel’s military campaign unfolds. American officials have repeatedly said that it is imperative that Hamas be defeated but that Israeli forces need to show more care to minimize civilian casualties.\\nOn Sunday, the United Nations said 40% of the Gaza population is at risk of famine and all children under 5 years old—or a total of about 335,000—are at high risk of severe malnutrition. The war has displaced 85% of the population and pushed almost all Gazans into poverty, according to the U.N., amid a daily struggle to find food and avoid Israeli airstrikes.\\nAdvertisement\\nNEWSLETTER SIGN-UP\\nWhat’s News\\nCatch up on the headlines, understand the news and make better decisions, free in your inbox daily. Enjoy a free article in every edition.\\nPreview\\nSubscribe\\nWhile some Western officials and analysts have questioned whether Israel can succeed in its goal of eradicating Hamas, the new military plans reflect the country’s determination to continue to pursue that goal.\\nSwapping out forces who have been serving for long periods in Gaza is important to refresh weary troops ahead of a planned long campaign. Moreover, demobilizing a portion of the about 360,000 reservists called up for duty since Oct. 7 will ease pressure on Israel’s workforce and its economy.\\nCycling out brigades from northern Gaza suggests that Israel has largely transitioned from offensive to consolidation efforts, according to Ofer Shelah, a military analyst with Tel Aviv’s Institute for National Security Studies.\\nAdvertisement\\n“Once you stop advancing and you take over or you demolish enough infrastructure, to stay there with so many soldiers is what guerrilla forces want you to do,” he said.\\nThe war in Gaza has sparked tensions elsewhere in the Middle East and has raised the risk of a broader confrontation between Iran, which has backed Hamas in its goal of destroying Israel, and the U.S., which has moved aircraft carriers and other military support to the area to deter Iran and its allies from attacking Israel.\\nA Palestinian woman collected items Monday from the rubble of her home in Rafah. PHOTO: AGENCE FRANCE-PRESSE/GETTY IMAGES\\nOver the weekend, U.S. Navy helicopters sank three boats piloted by Houthi fighters, a Yemeni group backed by Iran, after those boats threatened a commercial vessel in the Red Sea. There have been more than 20 Houthi attacks on commercial vessels since November.\\nThe USS Gerald R. Ford carrier strike group will be leaving the region in the coming days, defense officials said. A second carrier, the Dwight D. Eisenhower, will continue operating in the Red Sea. Since the Oct. 7 start of the war, the U.S. also has deployed additional destroyers and amphibious assault ships throughout the region.\\nTasnim, an Iranian semiofficial news agency close to the country’s security establishment, said Monday that an Iranian destroyer has been moved to the Red Sea near the Bab el-Mandeb Strait, a key crossing between the Indian Ocean and the Red Sea.\\nAdvertisement\\nThe clash between the Houthis and the U.S. Navy—the first involving close combat between U.S. forces and the militants—poses the question of whether the Biden administration should retaliate against the militants to deter further such aggression.\\nThe Israeli military said it’s the largest underground passageway, about 2½ miles long, that they have found so far built by Hamas in Gaza. WSJ’s Dov Lieber reports from the Israel-Gaza border, giving an inside look at the tunnel. Photo: Alexander Lowe/The Wall Street Journal\\nThe Obama administration carried out cruise-missile strikes in 2016 against coastal radar sites controlled by the Houthis. That action was described at the time as “limited self-defense strikes,” and they were carried out after the Houthis fired missiles at a U.S. destroyer. The Biden administration has been more cautious in the face of persistent Houthi attacks against commercial shipping, as it seeks to avoid broadening the fighting in the region.\\nOn Saturday, U.S. Defense Secretary Lloyd Austin spoke with Grant Shapps, the British defense secretary. Both agreed that the Houthi attacks were “profoundly destabilizing to the international rules-based order,” the Pentagon said, and Austin noted that “collective action” was needed.\\nThe U.S. is working with Britain and other countries on a joint statement that would bluntly warn the Houthis against continuing their attacks, a U.S. official said.\\nAdvertisement\\nOn Monday, U.S. forces in Syria were the target of two attacks, one by multiple rockets and the other by a drone, according to U.S. officials. Since mid-October, there have been at least 115 attacks on U.S. and allied forces in Syria and Iraq, with many of them claimed by Iran-backed militants.\\nIsraeli soldiers cleaning munitions Monday in Israel after returning from the Gaza Strip. PHOTO: AMIR LEVY/GETTY IMAGES\\nIsrael launched what has become one of its most costly recent conflicts after Hamas—a group designated by the U.S. as a terrorist organization—attacked southern Israel on Oct. 7, killing 1,200 people, mostly civilians, and kidnapping more than 240.\\nAccording to the Palestinian Central Bureau of Statistics, more than 22,000 people, mostly women and children, have been killed in Gaza since the war broke out. The figures don’t distinguish between civilian and combatant deaths. According to the health ministry in Hamas-controlled Gaza, 57,000 have been injured.\\nShahd Swairki, 35 years old, who fled her home in Gaza City in the north to Rafah, a town on the border with Egypt, said that food is available in the south, but at very high prices. She is crowded with her extended family in a rented apartment. Many other displaced families are in tents. The lack of cooking gas has forced people to burn wood, or even garbage, to cook.\\nAdvertisement\\n“People here live amid garbage, all of us are sick, the smoke from the fires we burn makes us feel more sick,” said Swairki. “The situation is just getting worse.”\\nEven as Israel announced the changes to its deployment, analysts say any shift to lower-intensity fighting is possible only as Israel establishes operational control over an area, meaning its forces can maneuver freely in the zone.\\nNearly three months into Israel’s war against Hamas and other militants in the Gaza Strip, Israel says it has broken the main command-and-control lines in the enclave’s north and weakened them in the south, but small groups of Hamas fighters continue to ambush Israeli forces and fire rockets toward Israel from across the Strip.\\nOn Monday morning, Hamas showed it has retained long-range rocket capabilities by launching an intense barrage at Tel Aviv at the stroke of midnight.\\nTwo of the five Israeli brigades set to rotate out of Gaza are reservists, some of whom the military said will be demobilized. The remaining three are training brigades, which can be quickly redeployed into battle as needed.\\nSince the start of the invasion of Gaza, 173 Israeli soldiers have died and more than 900 have been wounded, according to the Israeli military.\\nA tent camp for displaced Palestinians in Rafah. The war has displaced 85% of Gaza’s population, the U.N. says. PHOTO: IBRAHEEM ABU MUSTAFA/REUTERS\\nMeanwhile, clashes continue across Gaza. In Gaza City’s Shujaiyeh neighborhood, the Israel military said on Monday that its forces raided a command compound used by Hamas and allied group Palestinian Islamic Jihad. In central Gaza, Israel said it killed a midranking officer commanding Hamas’s elite Nukhba fighting force in Deir al-Balah.\\nIn addition to operating in Khan Younis, Israeli forces are also on the ground in Khirbat Ikhza’a, a border town that the military said was one of the launch points for Hamas’s Oct. 7 attack.\\nThe U.N. agency for Palestinian refugees said Friday that humanitarian aid deliveries to Gaza are “limited in quantities and riddled with logistical hurdles,” saying Israeli restrictions and airstrikes on the border areas are constraining the flow of aid. The U.N. also said a breakdown in law and order and looting by desperate Gazans was also making it hard to secure convoys.\\nAdvertisement\\n“There is a countdown to avert famine,” said Juliette Touma, a spokeswoman for the agency. “Much more food needs to get in.”\\nThe Israeli military said it works to facilitate aid into Gaza and blamed logistical bottlenecks created by the U.N. for the delays.\\nThe World Health Organization said that crowded and unsanitary conditions are causing hundreds of thousands of cases of infectious diseases and stomach ailments. Most of Gaza’s hospitals are no longer functioning and those still able to take patients have limited treatment available.\\nThe U.N.’s children’s agency said Friday that it had delivered 600,000 doses of vaccines for children into Gaza.\\nAbeer Ayyoub and Michael R. Gordon contributed to this article.\\nWrite to Saeed Shah at saeed.shah@wsj.com\\nConflict in the Middle East\\nLatest news and key analysis, selected by editors\\nChallenge to Hamas in Gaza Grows as Protests Enter Second Day\\nPalestinian Film Director Released After Being Attacked by Israeli Settlers\\nIsrael Is Killing Hamas Leaders in Quick Succession\\nIn Gaza, Weddings Are Off and Restaurants Close Again as Cease-Fire Crumbles\\nTurkey Detains Erdogan’s Top Rival in Raid on Opposition\\nIsrael, Fighting Again in Gaza, Is Also at War at Home\\nTrump’s Yemen Campaign Tests Promise to Avoid Forever Wars\\nSyria to Integrate U.S.-Backed Kurdish Militia Into Armed Forces\\nAdvertisement\\nAppeared in the January 2, 2024, print edition as 'Israel Reorganizes Forces, Prepares for Long Fight'.   \n",
      "\n",
      "   index_id  \n",
      "0         1  \n",
      "1         2  \n",
      "2         3  \n",
      "3         4  \n",
      "4         5  \n",
      "There are False duplicates in the dataframe\n",
      "There are 0 duplicates in the article_id column\n",
      "There are 0 null values in the corpus column\n",
      "There are 0 empty strings in the corpus column\n",
      "There are 14303 unique articles in the dataframe\n",
      "There are 0 duplicates in the article_id column\n"
     ]
    }
   ],
   "source": [
    "# read sql file in dataframe\n",
    "final_db_path = r\"C:\\Users\\PC\\Desktop\\Masterarbeit\\Code\\WSJ\\articlesWSJ_clean_1.db\"\n",
    "conn = sqlite3.connect(final_db_path) \n",
    "df = pd.read_sql_query(\"SELECT * FROM article\", conn)\n",
    "\n",
    "# close the connection\n",
    "conn.close() \n",
    "\n",
    "#inspect colums \n",
    "print(df.columns)\n",
    "\n",
    "# insect first 5 rows of the dataframe\n",
    "print(df.head()) \n",
    "\n",
    "# check for duplicates \n",
    "print(f\"There are {df.duplicated().any()} duplicates in the dataframe\")\n",
    "\n",
    "# check for duplicates in article_id\n",
    "print(f\"There are {df['article_id'].duplicated().sum()} duplicates in the article_id column\")\n",
    "\n",
    " # check for null values in corpus\n",
    "print(f\"There are {df['corpus'].isnull().sum()} null values in the corpus column\") \n",
    "\n",
    "# check for empty strings in corpus\n",
    "print(f\"There are {(df['corpus'] == '').sum()} empty strings in the corpus column\")\n",
    "\n",
    "# check number of articles\n",
    "print(f\"There are {df['article_id'].nunique()} unique articles in the dataframe\")\n",
    "\n",
    "# veryfy uniquenes of article_id\n",
    "print(f\"There are {df['article_id'].duplicated().sum()} duplicates in the article_id column\")"
   ]
  },
  {
   "cell_type": "markdown",
   "id": "5c3dee22",
   "metadata": {},
   "source": [
    "Constructing Initial Sample (n = 500)\n",
    "\n",
    "An initial set of 500 articles was randomly sampled from the full corpus for manual annotation. Exploratory analysis, showed that the proportion of AI-related content was too low for effective BERT fine-tuning. As discussed in the exposé, the annotated sample size was later increased to n = 1000. Starting with the third batch, a revised sampling strategy was implemented (see below)."
   ]
  },
  {
   "cell_type": "code",
   "execution_count": null,
   "id": "3ac66f77",
   "metadata": {},
   "outputs": [],
   "source": [
    "# sample 510 random article from the dataframe to build annotation data set\n",
    "df_sample_large = df.sample(500, random_state=42)\n",
    "\n",
    "# clean the corpus \n",
    "df_sample_large['corpus'] = df_sample_large['corpus'].apply(lambda x: clean_article_text(x))"
   ]
  },
  {
   "cell_type": "code",
   "execution_count": 100,
   "id": "3fe02147",
   "metadata": {},
   "outputs": [
    {
     "name": "stdout",
     "output_type": "stream",
     "text": [
      "9843                                                                                                                                                                                                                                                                                                                                                                                                                                                                                                                                                                                                                                                                                                                                                                                                                                                                                                                                                                                                                                                                                                                                                                                                                                                                                                                                                                                                                                                                                                                                                                                                                                                                                                                                                                                                                                                                                                                                                                                                                                                                                                                                                                                                                                                                                                                                                                                                                                                                                                                                                                                                                                                                                                                                                                                                                                                                                                                                                                                                                                                                                                                                                                                                                                                                                                                                                                                                                                                                                                                                                                                                                                                                                                                                                                                                                                                                                                                                                                                                                                                                                                                                                                                                                                                                                                                                                                                                                                                                                                                                                                                                                                                                                                                                                                                                                                                                                                                                                                                                                                                                                                                                                                                                                                                                                                                                                                                                                                                                                                                                                                                                                                                                                                                                                                                                                                                                                                                                                                                                                                                                                                                                                                                                                                                                                                                                                                                                                                                                                                                                                                                                                                                                                                                                                                                                                                                                                                                                                                                                                                                                                                                                                                                                                                                                                                                                                                                                                                                                                                                                                                                                                                                                                                                                                                                                                                                                                                                                                                                                                                                                                                                                                                                                                                                                                                                                                                                                                                             Fisker said its options may include restructurings, capital markets transactions, refinancings or asset sales. April 3, 552 pm. ET 2 min. The electric-vehicle maker said it would also forego providing any guidance in the future. Fisker said it would withdraw all financial and operational guidance for as the company's evaluation of strategic alternatives continues. The struggling electric-vehicle maker said in a regulatory filing. Wednesday that it would also forego providing any guidance in the future as it considers alternatives. Fisker said its options may include restructurings, capital markets transactions, refinancings or sales of assets, among other things. The company was in talks with a large automaker for a potential tie-up as part of its strategic alternatives search, but said last week those talks had ended. Fisker warned in. February that it may not be able to continue paying its debts. Play video. Why. Short. Sellers. Are. Targeting. Struggling. EV. Companies. Electric vehicle manufacturers like. Lucid,. Lordstown. Motors and. Faraday. Future were big winners of the stock boom two years ago. Now all three companies' shares have fallen dramatically. WSJ's. Dion. Rabouin and. George. Downs discuss why. Photo illustration. David. Fang. Fisker guided last month for 20,000 to 22,000 in vehicle sales to consumers and dealers in . Fisker also disclosed. Wednesday that board member. William. McDermott had resigned. March 28. McDermott's employer had requested he resign for governance reasons to reduce his board appointments. The company appointed. John. Dubel to the board as his replacement. Canada,. Our. Friend,. Deserves. Better. Than. This\n",
      "4509                                                                                                                                                                                                                                                                                                                                                                                                                                                                                                                                                                                                                                                                                                                                                                                                                                                                                                                                                                                                                                                                                                                                                                                                                                                                                                                                                                                                                                                                                                                                                                                                                                                                                                                                                                                                                                                                                                                                                                                                                                                                                                                                                                                                                                                                                                                                                                                                                                                                                                                                                                                                                                                                                                                                                                                                                                                                                                                                                                                                                                                                                                                                                                                                                                                                                                                                                                                                                                                                                                                                                                                                                                                                                                                                                                                                                                                                                                                                                                                                                                                                                                                                                                                                                                                                                                                                                                                                                                                                                                                                                                                                                                                                                                                                                                                                                                                                                                                                                                                                                                                                                                                                                                                                                                                                                                                                                                                                                                                                                                                                                                                                                                                                                                                                                                                                                                                                                                                                                                                                                                                                                                                                                                                                                                                                                                                                                                                                                                                                                                                                                                                                                                                                                                                                                                                                                                                                                                                                                                                                                                                                                                                                                                                                                                                                                                                                                                                                                                                                                                                                                                                                                                                                                                                                                                                                                                                                                                                                                                                                                                                                                                                                                                                                                                                                                                                                                                                                                                                                                                                                                                                                                                                                                                                                                                                                                                                                                                                                                                                                                                                                                                                                                                                                                                                                                                                                                                                                                                                        Nov. 25, 645 am. ET 1 min. Each outstanding common unit of. EnLink that. Oneok doesn't already own will be converted into 0. shares of. Oneok common stock. The exchange ratio was derived by dividing 15.75 per unit, equal to. EnLink's market close price on. Nov. 22, the companies said. Oneok will issue about 37 million shares in connection with the proposal deal, representing about 6 of the total. Oneok shares outstanding upon consummation of the transaction. The deal is expected to close in the first quarter of . China's. Tariff-Dodging. Move to. Mexico. Looks. Doomed. JD. Vance. Already. Has an. Eye on. His. Post-Vice. Presidency. Why. Judge. Boasberg's. Deportation. Order. Is. Legally. Invalid\n",
      "1010    The technology's rapid advance threatens to overwhelm all efforts at regulation. We need our best tech experts competing to rein in. AI as fast as companies are competing to build it. ILLUSTRATION. HITANDRUN. Jan. 26, 1106 am. ET 57 9 min. Today's large language models, the computer programs that form the basis of artificial intelligence, are impressive human achievements. Behind their remarkable language capabilities and impressive breadth of knowledge lie extensive swaths of data, capital and time. Many take more than 100 million to develop and require months of testing and refinement machines. They are refined, up to millions of times, that evaluate how close the systems come to the \"correct answer\" to questions and improve the model with each attempt. What's still difficult is to encode human values. That currently requires an extra step known as. Reinforcement. Learning from. Human. Feedback, in which programmers use their own responses to train the model to be helpful and accurate. Meanwhile, so-called \"red teams\" provoke the program in order to uncover any possible harmful outputs. This combination of human adjustments and guardrails is designed to ensure alignment of. AI with human values and overall safety. So far, this seems to have worked reasonably well. But as models become more sophisticated, this approach may prove insufficient. Some models are beginning to exhibit polymathic behavior. They appear to know more than just what is in their training data and can link concepts across fields, languages, and geographies. At some point they will be able to, for example, suggest recipes for novel cyberattacks or biological attacksall based on publicly available knowledge. There's little consensus around how we can rein in these risks. The press has reported a variety of explanations for the tensions at. OpenAI in. November, including that behind the then-board's decision to fire. CEO. Sam. Altman was a conflict between commercial incentives and the safety concerns core to the board's nonprofit mission. Potential commercial offerings like the ability to fine-tune the company's. ChatGPT program for different customers and applications could be very profitable, but such customization could also undermine some of. OpenAI's basic safeguards in. ChatGPT. Tensions like that around. AI risk will only become more prominent as models get smarter and more capable. We need to adopt new approaches to. AI safety that track the complexity and innovation speed of the core models themselves. OpenAI. CEO. Sam. Altman departs after appearing with other tech leaders to discuss. AI and its governance at the. U.S. Senate's. A.I. Insight. Forum,. September 13. While most agree that today's programs are generally safe for use and distribution, can our current safety tests keep up with the rapid pace of. AI advancement? At present, the industry has a good handle on the obvious queries to test for, including personal harms and examples of prejudice. It's also relatively straightforward to test for whether a model contains dangerous knowledge in its current state. What's much harder to test for is what's known as \"capability overhang\"meaning not just the model's current knowledge, but the derived knowledge it could potentially generate on its own. Red teams have so far shown some promise in predicting models' capabilities, but upcoming technologies could break our current approach to safety in. AI. For one, \"recursive self-improvement\" is a feature that allows. AI systems to collect data and get feedback on their own and incorporate it to update their own parameters, thus enabling the models to train themselves. This could result in, say, an. AI that can build complex system applications e.g., a simple search engine or a new game from scratch. But, the full scope of the potential new capabilities that could be enabled -improvement is not known. Another example would be \"multi-agent systems,\" where multiple independent. AI systems are able to coordinate with each other to build something new. Having just two. AI models from different companies collaborating together will be a milestone we'll need to watch out for. This so-called \"combinatorial innovation,\" where systems are merged to build something new, will be a threat simply because the number of combinations will quickly exceed the capacity of human oversight. Short of pulling the plug on the computers doing this work, it will likely be very difficult to monitor such technologies once these breakthroughs occur. Current regulatory approaches are based on individual model size and training effort, and are based on passing increasingly rigorous tests, but these techniques will break down as the systems become orders of magnitude more powerful and potentially elusive. AI regulatory approaches will need to evolve to identify and govern the new emergent capabilities and the scaling of those capabilities. President. Biden, accompanied. Kamala. Harris, signs his executive order providing guidance on regulating artificial intelligence, which takes a flexible approach but lacks the full power of law,. Oct. 30 . Europe has so far attempted the most ambitious regulatory regime with its. AI. Act, imposing transparency requirements and varying degrees of regulation based on models' risk levels. It even accounts for general-purpose models like. ChatGPT, which have a wide range of possible applications and could be used in unpredictable ways. But the. AI. Act has already fallen behind the frontier of innovation, as open-source. AI modelswhich are largely exempt from the legislationexpand in scope and number. President. Biden's recent executive order on. AI took a broader and more flexible approach, giving direction and guidance to government agencies and outlining regulatory goals, though without the full power of the law that the. AI. Act has. For example, the order gives the. National. Institute of. Standards and. Technology basic responsibility to define safety standards and evaluation protocols for. AI systems, but does not require that. AI systems in the. U.S. \"pass the test.\". Further, both. Biden's order and. Europe's. AI. Act lack intrinsic mechanisms to rapidly adapt to an. AI landscape that will continue to change quickly and often. I recently attended a gathering in. Palo. Alto organized. Corp. and the. Carnegie. Endowment for. International. Peace, where key technical leaders in. AI converged on an idea. The best way to solve these problems is to create a new set of testing companies that will be incentivized to out-innovate each otherin short, a robust economy of testing. To check the most powerful. AI systems, their testers will also themselves have to be powerful. AI systems, precisely trained and refined to excel at the single task of identifying safety concerns and problem areas in the world's most advanced models. To be trustworthy and yet agile, these testing companies should be checked and certified but developed and funded in the private market, with possible support . The philanthropy. I co-founded,. Schmidt. Sciences, and. I have helped fund some early. AI safety research. The field is moving too quickly and the stakes are too high for exclusive reliance on typical government processes and timeframes. Fear of. AI's fast-growing capacities have spurred a series of protests to slow down its development, including this one in. London,. Oct. 21. One way this can unfold is for government regulators to require. AI models exceeding a certain level of capability to be evaluated by government-certified private testing companies from startups to university labs to nonprofit research organizations, with model builders paying for this testing and certification so as to meet safety requirements. Testing companies would compete for dollars and talent, aiming to scale their capabilities at the same breakneck speed as the models they're checking. As. AI models proliferate, growing demand for testing would create a big enough market. Testing companies could specialize in certifying submitted models across different safety regimes, such as the ability to self-proliferate, create new bio or cyber weapons, or manipulate or deceive their human creators. Such a competitive market for testing innovation would have similar dynamics to what we currently have for the creation of new models, where we've seen explosive advances in short timescales. Without such a market and the competitive incentives it brings, governments, research labs and volunteers will be left to guarantee the safety of the most powerful systems ever created by humans, using tools that lag generations behind the frontier of. AI research. Are leaders doing enough to prevent. AI from getting out of human control? Join the conversation below. Much ink has been spilled over presumed threats of. AI. Advanced. AI systems could end up misaligned with human values and interests, able to cause chaos and catastrophe either deliberately or often despite efforts to make them safe. And as they advance, the threats we face today will only expand as new systems learn to self-improve, collaborate and potentially resist human oversight. While the risks are real, they are not inevitable. If we can bring about an ecosystem of nimble, sophisticated, independent testing companies who continuously develop and improve their skill evaluating. AI testing, we can help bring about a future in which society benefits from the incredible power of. AI tools while maintaining meaningful safeguards against destructive outcomes. Eric. Schmidt is the former. CEO and executive chairman of. Google and cofounder of the philanthropy. Schmidt. Sciences, which funds science and technology research. DeepSeek. Offers. Bioweapon,. Self-Harm. Information\n",
      "7495                                                                                                                                                                                                                                                                                                                                                                                                                                                                                                                                                                                                                                                                                                                                                                                                                                                                                                                                                                                                                                                                                                                                                                                                                                                                                                                                                                                                                                                                                                                                                                                                                                                                                                                                                                                                                                                                                                                                                                                                                                                                                                                                                                                                                                                                                                                                                                                                                                                                                                                                                                                                                                                                                                                                                                                                                                                                                                                                                                                                                                                                                                                                                                                                  7 min. Walmart said that inflation remains an issue in some product categories and varies item-to-item. sales surged across its stores and online operations through the holiday shopping season, but the retailer is girding its business as inflation moderates and consumers remain selective about their spending. The retailer's. U.S. comparable sales, or those from digital channels and stores operating at least 12 months, rose 4 in the quarter ended. Jan 26. That metric came in stronger than. Wall. Street analysts had forecast, helped coming to the company's storefronts. For the first time in over two years, shoppers spent less per trip to. Walmart, a sign that prices are cooling in some categories at the country's largest retailer, along with inflation. Walmart, similar to other retailers, is navigating how to boost its business beyond raising prices. While the economy continues to expand at a healthy clip, consumer confidence remains shaky. The company said revenue growth could slow from last year, when it hauled in 648.1 billionor more than 1.2 million a minute. On. Tuesday, the company said it would purchase smart-television maker. Vizio for 2.3 billion, a deal it envisions providing a significant boost to its advertising business. Walmart's global ad business hit 3.4 billion in revenue for the year ended in. January, up 28 from the previous year. Play video. How. Walmart. Is. Leveraging. Automation and. AI to. Deliver. Faster. Walmart projects that by , 65 of its stores will be serviced by automation. Here's how the biggest. U.S. retailer is leaning into a high-tech distribution strategy to keep pace in the fast-shipping race against. Amazon and. Target. Photo illustration. Annie. Zhao. The initiative reflects how. Walmart is expanding its business beyond selling items in stores and online. Revenue from advertising and membershipssuch as those from its. Sam's. Club warehouse chain and online membership service. Walmartare expected to account for a larger of profit this year, said. John. David. Rainey,. Walmart's chief financial officer. Walmart's newer revenue streams are more profitable than its grocery business, which drives the bulk of the company's. U.S. sales. It plans to use cash generated from those operations to expand services such as providing fast shipping for online purchases as a way to attract shoppers and fend off competitors like. Amazon.com. The e-commerce business has become a behemoth in its own right, hauling in more than 100 billion in worldwide revenue last year. While the unit isn't profitable, it is trimming its losses,. Rainey said. What's your biggest takeaway from. Walmart's earnings report? Join the conversation below. Shares in. Walmart rose 3.2 to 175.86, a record closing price for the retailer. The company on. Tuesday also increased its dividend margin in more than a decade. Walmart executives said last year that prices were falling in some categories, and in some cases, they welcomed that development. In many cases, deflation isn't occurring broadly and as fast as expected,. Chief. Executive. Doug. McMillon told analysts on a conference call. Tuesday. Inflation remains an issue in some categories and varies item-to-item,. Walmart executives said. For example, pet-food prices are rising, while those for pet supplies are cooling,. Rainey said. General merchandise categories such as electronics and housewares are expected to have challenges, too. Walmart expects inflation overall to stay roughly steady this year, he said. \"Pricing is not going to be the same uplift or tailwind as we saw over last year,\". Rainey said. Walmart has reported steady increases in sales for years as shoppers gravitate to lower prices for food and other consumable items as a hedge against inflation. Executives said the retailer expanded its market among higher-income households, which the company defines as households earning 100,000 or more. The ability for. Walmart to pull in more high-income shoppers has buoyed its sales gains even as many low- and middle-income households have reduced spending. Affluent shoppers have been strong users of online services that include home delivery and picking up orders in store parking lots,. Rainey said. For retailers such as. Walmart and. Amazon, spending was strong throughout the holiday shopping season. The retail landscape is proving more difficult in early . U.S. retail sales fell more than economists expected in. January, compared with a strong. December. Home. Depot on. Tuesday said the home-improvement market continues to face challenges compared with its strong performance through the pandemic, including higher interest rates damping demand for some projects. Sales fell nearly 3 in the most recent quarter, as the number of customer transactions and the size of those transactions declined. \"While we see our customers have the means to spend, they are taking more of a deferral stance with respect to large project demand,\". Richard. McPhail, chief financial officer for. Home. Depot, said on a conference call. \"We believe there was some pull forward of certain spend during the period of to that we're working out.\". Walmart has been cutting costs in some areas, while investing heavily in others. Earlier this year it said it would shut. Store. No. 8, the business unit it created to spur innovation, saying that those capabilities are now embedded within the wider company. It also said this year it would build a large number of. U.S. stores, reversing a long pause in significant store construction. The retailer plans to remodel 928 stores and warehouse clubs worldwide over the next year, including 650 in the. U.S.,. McMillon said. Tuesday. Walmart sees new areas to attract shoppers as some cities expand,. Rainey said. \"We are gaining ,\" he said. \"We think this is the time to do it.\". The retailer's growth has captivated investors, who have sent the company's shares up 20 over the past 12 months, compared with a 22 gain in the. SP 500. Walmart closed. Tuesday with a market capitalization of roughly 473 billion. Later this week, the company is planning to conduct a 3-for-1 stock split, a move that would lower the price of each outstanding. It has said that the split would make shares more affordable for its associates to purchase. Investors typically see splits as a reflection of confidence among management. Overall for the fourth quarter. Walmart said its profit was 5.49 billion, down 12 from a year earlier. Revenue rose 5.7 to 173.39 billion. FedEx. Cuts. Outlook,. Despite. Higher. Profit,. Sales. Why. Judge. Boasberg's. Deportation. Order. Is. Legally. Invalid. Big. Retailers'. Hardball. Tariff. Playbook. Haggle,. Diversify,. Raise. Prices\n",
      "5173                                                                                                                                                                                                                                                                                                                                                                                                                                                                                                                                                                                                                                                                                                                                                                                                                                                                                                                                                                                                                                                                                                                                                                                                                                                                                                                                                                                                                                                                                                                                                                                                                                                                                                                                                                                                                                                                                                                                                                                                                                                                                                                                                                                                                                                                                                                                                                                                                                                                                                                                                                                                                                                                                                                                                                                                                                                                                                                                                                                                                                                                                                                                                                                                                                                                                                                                                                                                                                                                                                                                                                                                                                                                                                                                                                                                                                                                                                                                                    MARKETS. FINANCE. Trump. Tax. Cuts. Come at the. Right. Time for. Stocks. Further. Ahead,. It. Gets. Murky. Lower taxes would be a boon for an equity market that was starting to look priced for perfection, but tariffs could create longer-term damage. Nov. 7, 530 am. ET 32 6 min. A trader wore a. Trump hat. Wednesday on the floor of the. New. York. Stock. Exchange in. New. York. City. For stock markets, the short-term and long-term outcomes of the \"Trump trade\" won't necessarily be the same. So far,. President-elect. Donald. Trump's victory. Tuesday has been positively received by investors, as was the case in . The. SP 500 rose 2.5 to a record close. Wednesday, buoyed by. Trump's stated intentions to, among other tax cuts, take the corporate-tax rate from 21 to 15 for companies that manufacture in the. U.S. In , after. Trump's first round of tax reductions came into effect, the. SP 500's earnings-per-, or. EPS, jumped by 21, compared with an 11 increase the previous year. Much might depend on whether the. Republicans win majority control in the. House, but some. Wall. Street analysts think a new wave of tax cuts could boost. EPS somewhere between 5 and 10. As it turns out, the shot in the arm might come at just the right time to rescue a stock market that was starting to get ahead of itself. Most. SP 500 companies have already reported third-quarter earnings, and 75 of them have done better than analysts were expecting, according to. FactSet, which is in line with the 10-year average. EPS are now expected to be 9.6 higher in than the previous year. Cracks are nevertheless starting to appear. For one, the. SP 500 has been able to surprise the upside because forecasters had downgraded their projections by 3.6 since the end of the second quarter. This is more than the median of the past decade, which is 3.3. More important, many executives have been warning that profit growth might be weaker than analysts expect in the fourth quarter, as well as in . Among the 62 members of the. SP 500 that have provided guidance for the. October-to-December period, 42 of themthat is, 68have given a midpoint estimate for earnings-per- that is below what. Wall. Street was expecting before the start of the reporting season, according to. FactSet. This is a smaller percentage of negative guidance than firms were issuing at the start of the year, but is firmly above five-year and 10-year averages of 58 and 62, respectively. It marks a retrenchment from the optimistic guidance provided for the second and third quarters of this year. Consumer-oriented companies, such as flooring manufacturer. Mohawk. Industries, hotel chain. Hilton and cruise operators. Carnival and. Royal. Caribbean, are behind many of the disappointing outlooks. Admittedly, they are all exposed to the one-off impact of hurricanes, but they also have cited weaker demand. Analysts are counting on artificial-intelligence-themed stocks to keep leading the. SP 500. This comes with risks. As. Apple's slow sales for the iPhone 16 show, big. AI investments could take time to pay off, putting pressure on megacorporations to cut back their vast investment budgets. To be sure,. Trump is inheriting an economy that seems in good health, stripping out weather events and the strike . But more cautious guidance does suggest that equities are increasingly priced to perfection. \"Analysts and corporate managements are dealing with the reality that converting solid economic growth into the accelerating expectations priced into profit estimates is hard,\" warned. Lisa. Shalett, chief investment officer at. Morgan. Stanley. Wealth. Management, in a report to clients this week. Indeed, forecasts for the next 12 months show the. SP 500's net profit margin rising significantly above 13, which is a record. Based on trailing 12-month earnings, however, it is possible that they have already peaked somewhere in the vicinity of 12. As a result, the gap between backward-looking and forward-looking price-to-earnings ratios is the largest ever outside of the dot-com bubble and pandemic rebound of late and . Stocks might be even more expensive than they appear, unless earnings growth reaccelerates. Trump's fiscal policies make this scenario more likely. Budget deficits have been the main source of widening profit margins over the past few years, and his proposed tax cuts and spending increases could take the deficit from above 5 of gross domestic productalready a record outside of wars, pandemics and recessionsto between 7.7 and 12.2 in , according to estimates. Committee for a. Responsible. Federal. Budget. Still, while the tax cuts did mechanically boost earnings for investors, they didn't lead companies to significantly increase capital investments, which calls into question whether such policies generate permanent productivity benefits. That uncertainty speaks to a broader problem with the \"Trump trade\". While some of his policies have an immediate benefit for investors, the potential downsides of othersnamely, his proposed tariffs of perhaps a 10 across-the-board levy on trading partners, plus a 60 tariff on. Chinaare longer-term and harder to measure. How might the election results change your investing strategy? Join the conversation below. His first round of protectionist measures contributed to a global manufacturing recession in , which drove. EPS to fall 0.5 for the. SP 500, and 16 for the \"industrials\" subsector. The impact might be starker this time, particularly if other nations retaliate strongly. Yet vast uncertainty clouds what the final shape of the tariffs will be, or which products could be excluded. The stock market may be looking at a clearer road immediately ahead. The final destination, though, has gotten harder to ascertain. Liberal. Wins. Wisconsin. Supreme. Court. Race in. Rebuke of. Trump,. Musk. China's. Tariff-Dodging. Move to. Mexico. Looks. Doomed. ICE. Can't. Bring. Back. Man. Deported to. El. Salvador. Prison in. Error,. Agency. Says\n",
      "Name: corpus, dtype: object\n"
     ]
    }
   ],
   "source": [
    "# inspect the cleaned corpus\n",
    "print(df_sample_large['corpus'].head())"
   ]
  },
  {
   "cell_type": "code",
   "execution_count": null,
   "id": "b2bcf4a3",
   "metadata": {},
   "outputs": [],
   "source": [
    "# save the cleaned sample to a csv file\n",
    "df_sample_large.to_csv(r\"C:\\Users\\PC\\Desktop\\Masterarbeit\\Code\\WSJ\\Annotation\\articles_WSJ_sub500.csv\", index=False)"
   ]
  },
  {
   "cell_type": "markdown",
   "id": "bd877e1b",
   "metadata": {},
   "source": [
    "Filtering for AI-Relevant Articles Using a Custom Function\n",
    "\n",
    "To identify AI-related content within the sample, a custom filtering function (flag_ai_mentions) was employed. The filter relies on a predefined set of keywords: AI, A.I., artificial intelligence, machine learning, deep learning, LLM, GPT, ChatGPT, OpenAI, transformer model, generative AI, and neural network. These terms were selected based on an initial manual review of Wall Street Journal articles.\n",
    "\n",
    "The matching is case-insensitive and uses word boundaries to avoid partial matches (e.g., \"ai\" would match \"AI\", but \"aimless\" would not match \"ai\"). The purpose of this filtering step is to ensure that each sampled batch contains a meaningful proportion of AI-related content. The corresponding function is implemented in the script mentions_ai.py."
   ]
  },
  {
   "cell_type": "code",
   "execution_count": 102,
   "id": "6c2c6e46",
   "metadata": {},
   "outputs": [
    {
     "name": "stdout",
     "output_type": "stream",
     "text": [
      "68 out of 500 articles mention AI-related topics.\n"
     ]
    }
   ],
   "source": [
    "# flag articles with AI mentions by setting mentioned_ai to 1 if the article contains any of the AI-related keywords, 0 otherwise\n",
    "df_sample_large = flag_ai_mentions(df_sample_large)"
   ]
  },
  {
   "cell_type": "markdown",
   "id": "dfc42669",
   "metadata": {},
   "source": [
    "Sample with seed 42 for annotated examples"
   ]
  },
  {
   "cell_type": "code",
   "execution_count": null,
   "id": "e326b58a",
   "metadata": {},
   "outputs": [],
   "source": [
    "# Filter  annotated articles\n",
    "ai_articles = df_sample_large[df_sample_large['mentions_ai'] == True]\n",
    "non_ai_articles = df_sample_large[df_sample_large['mentions_ai'] == False]\n",
    "\n",
    "# Randomly select 2 AI-related articles and 1 non-AI article (reproducible with seed)\n",
    "sample_ai = ai_articles.sample(4, random_state=42)\n",
    "sample_non_ai = non_ai_articles.sample(1, random_state=42)\n",
    "\n",
    "# Combine into one DataFrame\n",
    "df_three_articles = pd.concat([sample_ai, sample_non_ai]).sample(frac=1, random_state=42).reset_index(drop=True)\n",
    "\n",
    "#  Display the result\n",
    "df_three_articles[['article_id', 'title', 'corpus', 'mentions_ai']]\n"
   ]
  },
  {
   "cell_type": "markdown",
   "id": "1d64a374",
   "metadata": {},
   "source": [
    "Investigate 5 flagged and an unflagged article to discuss with the annotator"
   ]
  },
  {
   "cell_type": "code",
   "execution_count": null,
   "id": "572abf31",
   "metadata": {},
   "outputs": [],
   "source": [
    "# Filter  annotated articles\n",
    "ai_articles = df_sample_large[df_sample_large['mentions_ai'] == True]\n",
    "non_ai_articles = df_sample_large[df_sample_large['mentions_ai'] == False]\n",
    "\n",
    "# Randomly select 3 AI-related articles and 2 non-AI article (reproducible with seed)\n",
    "sample_ai_non_ann = ai_articles.sample(4, random_state=41)\n",
    "sample_non_ai_non_ann = non_ai_articles.sample(1, random_state=41)\n",
    "\n",
    "# Combine into one DataFrame\n",
    "df_non_ann = pd.concat([sample_ai_non_ann, sample_non_ai_non_ann]).reset_index(drop=True).drop(columns=['mentions_ai'])\n",
    "\n",
    "# show columns of the dataframe\n",
    "print(df_non_ann.columns)\n",
    "\n",
    "# Display full text for each article in the corpus\n",
    "pd.set_option('display.max_colwidth', None)\n",
    "display(df_non_ann[['title', 'corpus']])  "
   ]
  },
  {
   "cell_type": "markdown",
   "id": "66f09ec7",
   "metadata": {},
   "source": [
    "Constructing the sample for annotation, starting with 100 articles for the first batch. Use AI flags to ensure that at least 50 article mention AI in some way (see above)"
   ]
  },
  {
   "cell_type": "code",
   "execution_count": 105,
   "id": "3dae164d",
   "metadata": {},
   "outputs": [
    {
     "name": "stdout",
     "output_type": "stream",
     "text": [
      "Number of AI-related articles in the sample: 50\n",
      "Number of non-AI articles in the sample: 50\n",
      "Total number of articles in the sample: 100\n",
      "columns: Index(['article_id', 'image_src', 'scanned_time', 'title', 'sub_title',\n",
      "       'corpus', 'index_id'],\n",
      "      dtype='object')\n"
     ]
    }
   ],
   "source": [
    "# Randomly select 50 AI-related articles and 50 non-AI article (reproducible with seed)\n",
    "sample_ai_100 = ai_articles.sample(50, random_state=42)\n",
    "sample_non_ai_100 = non_ai_articles.sample(50, random_state=42)\n",
    "df_non_ann_100 = pd.concat([sample_ai_100, sample_non_ai_100]).reset_index(drop=True).drop(columns=['mentions_ai'])\n",
    "\n",
    "#verify the sample size\n",
    "print(f\"Number of AI-related articles in the sample: {len(sample_ai_100)}\")\n",
    "print(f\"Number of non-AI articles in the sample: {len(sample_non_ai_100)}\")\n",
    "print(f\"Total number of articles in the sample: {len(df_non_ann_100)}\")\n",
    "print(f'columns: {df_non_ann_100.columns}')"
   ]
  },
  {
   "cell_type": "code",
   "execution_count": 108,
   "id": "d24b15b3",
   "metadata": {},
   "outputs": [],
   "source": [
    "# save to csv file  \n",
    "df_non_ann_100.to_csv(r\"C:\\Users\\PC\\Desktop\\Masterarbeit\\Code\\WSJ\\Annotation\\articles_WSJ_batch_one.csv\", index=False)"
   ]
  },
  {
   "cell_type": "markdown",
   "id": "1007954a",
   "metadata": {},
   "source": [
    "Annotate sample with 100 examples"
   ]
  },
  {
   "cell_type": "code",
   "execution_count": 109,
   "id": "2bba877f",
   "metadata": {},
   "outputs": [
    {
     "data": {
      "text/html": [
       "<div>\n",
       "<style scoped>\n",
       "    .dataframe tbody tr th:only-of-type {\n",
       "        vertical-align: middle;\n",
       "    }\n",
       "\n",
       "    .dataframe tbody tr th {\n",
       "        vertical-align: top;\n",
       "    }\n",
       "\n",
       "    .dataframe thead th {\n",
       "        text-align: right;\n",
       "    }\n",
       "</style>\n",
       "<table border=\"1\" class=\"dataframe\">\n",
       "  <thead>\n",
       "    <tr style=\"text-align: right;\">\n",
       "      <th></th>\n",
       "      <th>article_id</th>\n",
       "      <th>title</th>\n",
       "      <th>corpus</th>\n",
       "    </tr>\n",
       "  </thead>\n",
       "  <tbody>\n",
       "    <tr>\n",
       "      <th>1</th>\n",
       "      <td>31336</td>\n",
       "      <td>AI Is Helping Scammers Outsmart You—and Your Bank</td>\n",
       "      <td>ILLUSTRATION. MARK. HARRIS,. ISTOCK 7. June 22, 530 am. ET 8 minutes. Artificial intelligence is making scammers tougher to spot. Gone are the poorly worded messages that easily tipped off authorities as well as the grammar police. The bad guys are now better writers and more convincing conversationalists, who can hold a conversation without revealing they are a bot, say the bank and tech investigators who spend their days tracking the latest schemes. ChatGPT and other. AI tools can even enable scammers to create an imitation of your voice and identity. In recent years, criminals have used. AI-based software to impersonate senior executives and demand wire transfers. \"Your spidey senses are no longer going to prevent you from being victimized,\" said. Matt. O'Neill, a former. Secret. Service agent and co-founder of cybersecurity firm 5OH. Consulting. In these recent cases, the frauds are often similar to old scams. But. AI has enabled scammers to target much larger groups and use more personal information to convince you the scam is real. Fraud-prevention officials say these tactics are often harder to spot because they bypass traditional indicators of scams, such as malicious links and poor wording and grammar. Criminals today are faking driver's licenses and other identification in an attempt to open new bank accounts and adding computer-generated faces and graphics to pass identity-verification processes. All of these methods are hard to stave off, say the officials. JPMorgan. Chase has begun using large-language models to validate payments, which helps fight fraud. Carisma. Ramsey. Fields, vice president of external communications at. JPMorgan. Chase, said the bank has also stepped up its efforts to educate customers about scams. And while banks stop some fraud, the last line of defense will always be you. These security officials say to never financial or personal information unless you're certain about who's on the receiving end. If you do pay, use a credit card because it offers the most protection. \"Somebody who tells you to pay by crypto, cash, gold, wire transfer or a payment app is likely a scam,\" said. Lois. Greisman, an associate director of the. Federal. Trade. Commission. With. AI as an accomplice, fraudsters are reaping more money from victims of all ages. People reported losing a record 10 billion to scams in , up from 9 billion a year prior, according to the. FTC. Since the. FTC estimates only 5 of fraud victims report their losses, the actual number could be closer to 200 billion. Joey. Rosati, who owns a small cryptocurrency firm, never thought he could fall for a scam until a man he believed to be a police officer called him in. May. Finance entrepreneur. Joey. Rosati, who was almost scammed, was surprised how convincing and knowledgeable fraudsters can be. The man told. Rosati he had missed jury duty. The man seemed to know all about him, including his. Social. Security number and that he had just moved to a new house. Rosati followed the officer's instruction to come down to the station in. Hillsborough. County,. Fla. which didn't seem like something a scammer would suggest. On the drive over,. Rosati was asked to wire 4,500 to take care of the fine before he arrived. It was then that. Rosati realized it was a scam and hung up. \"I'm not uneducated, young, immature. I have my head on my shoulders,\". Rosati said. \"But they were perfect.\". Social-engineering attacks like the jury-duty scam have grown more sophisticated with. AI. Scammers use. AI tools to unearth details about targets from social media and data breaches, cybersecurity experts say. AI can help them adapt their schemes in real time messages that convincingly mimic trusted individuals, persuading targets to send money or divulge sensitive information. A job scammer played on the emotions of. David. Wenyu, who had been unemployed for six months. David. Wenyu's. LinkedIn profile displayed an \"open to work\" banner when he received an email in. May offering a job opportunity. It appeared to be from. SmartLight. Analytics, a legitimate company, and came six months after he had lost his job. He accepted the offer, even though he noticed the email address was slightly different from those on the company's website. The company issued him a check to purchase work-from-home equipment from a specific website. When they told him to buy the supplies before the money showed up in his account, he knew it was a scam. \"I was just emotionally too desperate, so. I ignored those red flags,\". Wenyu said. In an. April survey of 600 fraud-management officials at banks and financial institutions company. Biocatch, 70 said the criminals were more skilled at using. AI for financial crime than banks are at using it for prevention. Kimberly. Sutherland, vice president of fraud and identity strategy at. LexisNexis. Risk. Solutions, said there has been a noticeable rise in fraud attempts that appear to be. AI related in . Password risks, amplified. Criminals used to have to guess or steal passwords through phishing attacks or data breaches, often targeting high-value accounts one by one. Now, scammers can quickly cross-reference and test reused passwords across platforms. They can use. AI systems to write code that would automate various aspects of their ploys,. O'Neill said. If scammers obtain your email and a commonly used password from a tech company data breach,. AI tools can swiftly check if the same credentials unlock your bank, social media or shopping accounts. Financial institutions are taking new stepsand tapping. AI themselvesto shield your money and data. Banks monitor how you enter credentials, whether you tend to use your left or right hand when swiping on the app, and your device's. IP address to build a profile on you. If a login attempt doesn't match your typical behavior, it is flagged, and you may be prompted to provide more information before proceeding. They can tell when you're being coerced into filling out information, because of shifts in your typing cadence. If digits are copied and pasted, if the voice verification is too perfect, or if is too evenly spaced and grammatically correct, that is a red flag, said. Jim. Taylor, chief product officer at. RSA. Security, a firm with fraud-detection tech used ,. Citibank and others. Consumers paid scammers 1.4 billion in cryptocurrency in , up more than 250 from , according to. FTC data. What steps do you take to protect yourself and your money? Join the conversation below. As a result, security officials suggest that you turn on two-factor authentication, so you get a or email whenever someone tries logging into one of your accounts. If anything feels off during a potential money exchange, take a beat. Pressing pause on a potentially fraudulent situation is also important psychologically. Many scammers try to create a false urgency or confuse victims to manipulate them. If all the information about a transaction or account is coming from one person, that is a red flag. Get a second opinion from a trusted contact. \"If it's going to hurt if you lose it, validate it,\". O'Neill, the former. Secret. Service agent said. JPMorgan. Chase has begun using large-language models to validate payments, which helps fight fraud. An earlier version of this article incorrectly said the bank was using the models to fight identity fraud. Corrected on. June 27. To. Fix. Your. Food. Budget,. Trim the. Waste</td>\n",
       "    </tr>\n",
       "  </tbody>\n",
       "</table>\n",
       "</div>"
      ],
      "text/plain": [
       "   article_id                                              title  \\\n",
       "1       31336  AI Is Helping Scammers Outsmart You—and Your Bank   \n",
       "\n",
       "                                                                                                                                                                                                                                                                                                                                                                                                                                                                                                                                                                                                                                                                                                                                                                                                                                                                                                                                                                                                                                                                                                                                                                                                                                                                                                                                                                                                                                                                                                                                                                                                                                                                                                                                                                                                                                                                                                                                                                                                                                                                                                                                                                                                                                                                                                                                                                                                                                                                                                                                                                                                                                                                                                                                                                                                                                                                                                                                                                                                                                                                                                                                                                                                                                                                                                                                                                                                                                                                                                                                                                                                                                                                                                                                                                                                                                                                                                                                                                                                                                                                                                                                                                                                                                                                                                                                                                                                                                                                                                                                                                                                                                                                                                                                                                                                                                                                                                                                                                                                                                                                                                                                                                                                                                                                                                                                                                                                                                                                                                                                                                                                                                                                                                                                                                                                                                                                                                                                                                                                                                                                                                                                                                                                                                                                                                                                                                                                                                                                                                                                                                                                                                                                                                                                                                                                                                                                                                                                                                                                                                                                                                                                                                                                                                                                                                                                                                                                                                                                                                                                                                                                                                                                                                                                                   corpus  \n",
       "1  ILLUSTRATION. MARK. HARRIS,. ISTOCK 7. June 22, 530 am. ET 8 minutes. Artificial intelligence is making scammers tougher to spot. Gone are the poorly worded messages that easily tipped off authorities as well as the grammar police. The bad guys are now better writers and more convincing conversationalists, who can hold a conversation without revealing they are a bot, say the bank and tech investigators who spend their days tracking the latest schemes. ChatGPT and other. AI tools can even enable scammers to create an imitation of your voice and identity. In recent years, criminals have used. AI-based software to impersonate senior executives and demand wire transfers. \"Your spidey senses are no longer going to prevent you from being victimized,\" said. Matt. O'Neill, a former. Secret. Service agent and co-founder of cybersecurity firm 5OH. Consulting. In these recent cases, the frauds are often similar to old scams. But. AI has enabled scammers to target much larger groups and use more personal information to convince you the scam is real. Fraud-prevention officials say these tactics are often harder to spot because they bypass traditional indicators of scams, such as malicious links and poor wording and grammar. Criminals today are faking driver's licenses and other identification in an attempt to open new bank accounts and adding computer-generated faces and graphics to pass identity-verification processes. All of these methods are hard to stave off, say the officials. JPMorgan. Chase has begun using large-language models to validate payments, which helps fight fraud. Carisma. Ramsey. Fields, vice president of external communications at. JPMorgan. Chase, said the bank has also stepped up its efforts to educate customers about scams. And while banks stop some fraud, the last line of defense will always be you. These security officials say to never financial or personal information unless you're certain about who's on the receiving end. If you do pay, use a credit card because it offers the most protection. \"Somebody who tells you to pay by crypto, cash, gold, wire transfer or a payment app is likely a scam,\" said. Lois. Greisman, an associate director of the. Federal. Trade. Commission. With. AI as an accomplice, fraudsters are reaping more money from victims of all ages. People reported losing a record 10 billion to scams in , up from 9 billion a year prior, according to the. FTC. Since the. FTC estimates only 5 of fraud victims report their losses, the actual number could be closer to 200 billion. Joey. Rosati, who owns a small cryptocurrency firm, never thought he could fall for a scam until a man he believed to be a police officer called him in. May. Finance entrepreneur. Joey. Rosati, who was almost scammed, was surprised how convincing and knowledgeable fraudsters can be. The man told. Rosati he had missed jury duty. The man seemed to know all about him, including his. Social. Security number and that he had just moved to a new house. Rosati followed the officer's instruction to come down to the station in. Hillsborough. County,. Fla. which didn't seem like something a scammer would suggest. On the drive over,. Rosati was asked to wire 4,500 to take care of the fine before he arrived. It was then that. Rosati realized it was a scam and hung up. \"I'm not uneducated, young, immature. I have my head on my shoulders,\". Rosati said. \"But they were perfect.\". Social-engineering attacks like the jury-duty scam have grown more sophisticated with. AI. Scammers use. AI tools to unearth details about targets from social media and data breaches, cybersecurity experts say. AI can help them adapt their schemes in real time messages that convincingly mimic trusted individuals, persuading targets to send money or divulge sensitive information. A job scammer played on the emotions of. David. Wenyu, who had been unemployed for six months. David. Wenyu's. LinkedIn profile displayed an \"open to work\" banner when he received an email in. May offering a job opportunity. It appeared to be from. SmartLight. Analytics, a legitimate company, and came six months after he had lost his job. He accepted the offer, even though he noticed the email address was slightly different from those on the company's website. The company issued him a check to purchase work-from-home equipment from a specific website. When they told him to buy the supplies before the money showed up in his account, he knew it was a scam. \"I was just emotionally too desperate, so. I ignored those red flags,\". Wenyu said. In an. April survey of 600 fraud-management officials at banks and financial institutions company. Biocatch, 70 said the criminals were more skilled at using. AI for financial crime than banks are at using it for prevention. Kimberly. Sutherland, vice president of fraud and identity strategy at. LexisNexis. Risk. Solutions, said there has been a noticeable rise in fraud attempts that appear to be. AI related in . Password risks, amplified. Criminals used to have to guess or steal passwords through phishing attacks or data breaches, often targeting high-value accounts one by one. Now, scammers can quickly cross-reference and test reused passwords across platforms. They can use. AI systems to write code that would automate various aspects of their ploys,. O'Neill said. If scammers obtain your email and a commonly used password from a tech company data breach,. AI tools can swiftly check if the same credentials unlock your bank, social media or shopping accounts. Financial institutions are taking new stepsand tapping. AI themselvesto shield your money and data. Banks monitor how you enter credentials, whether you tend to use your left or right hand when swiping on the app, and your device's. IP address to build a profile on you. If a login attempt doesn't match your typical behavior, it is flagged, and you may be prompted to provide more information before proceeding. They can tell when you're being coerced into filling out information, because of shifts in your typing cadence. If digits are copied and pasted, if the voice verification is too perfect, or if is too evenly spaced and grammatically correct, that is a red flag, said. Jim. Taylor, chief product officer at. RSA. Security, a firm with fraud-detection tech used ,. Citibank and others. Consumers paid scammers 1.4 billion in cryptocurrency in , up more than 250 from , according to. FTC data. What steps do you take to protect yourself and your money? Join the conversation below. As a result, security officials suggest that you turn on two-factor authentication, so you get a or email whenever someone tries logging into one of your accounts. If anything feels off during a potential money exchange, take a beat. Pressing pause on a potentially fraudulent situation is also important psychologically. Many scammers try to create a false urgency or confuse victims to manipulate them. If all the information about a transaction or account is coming from one person, that is a red flag. Get a second opinion from a trusted contact. \"If it's going to hurt if you lose it, validate it,\". O'Neill, the former. Secret. Service agent said. JPMorgan. Chase has begun using large-language models to validate payments, which helps fight fraud. An earlier version of this article incorrectly said the bank was using the models to fight identity fraud. Corrected on. June 27. To. Fix. Your. Food. Budget,. Trim the. Waste  "
      ]
     },
     "metadata": {},
     "output_type": "display_data"
    },
    {
     "name": "stdout",
     "output_type": "stream",
     "text": [
      "There are 100 articles in the dataframe\n"
     ]
    }
   ],
   "source": [
    "# read the csv file\n",
    "df_100_sample = pd.read_csv(r\"C:\\Users\\PC\\Desktop\\Masterarbeit\\Code\\WSJ\\Annotation\\articles_WSJ_batch_one.csv\")\n",
    "\n",
    "# Display the result\n",
    "display(df_100_sample[['article_id', 'title', 'corpus']][1:2])\n",
    "\n",
    "# verify the sample size\n",
    "print(f'There are {df_100_sample.shape[0]} articles in the dataframe')"
   ]
  },
  {
   "cell_type": "code",
   "execution_count": null,
   "id": "294c9dc3",
   "metadata": {},
   "outputs": [],
   "source": [
    "# annotate the articles using the annotator function\n",
    "first_Batch_articles_WSJ_author = af(df=df_100_sample);"
   ]
  },
  {
   "cell_type": "code",
   "execution_count": 4,
   "id": "3721ccb2",
   "metadata": {},
   "outputs": [
    {
     "ename": "NameError",
     "evalue": "name 'first_Batch_articles_WSJ_author' is not defined",
     "output_type": "error",
     "traceback": [
      "\u001b[31m---------------------------------------------------------------------------\u001b[39m",
      "\u001b[31mNameError\u001b[39m                                 Traceback (most recent call last)",
      "\u001b[36mCell\u001b[39m\u001b[36m \u001b[39m\u001b[32mIn[4]\u001b[39m\u001b[32m, line 2\u001b[39m\n\u001b[32m      1\u001b[39m \u001b[38;5;66;03m# verify the annotation process\u001b[39;00m\n\u001b[32m----> \u001b[39m\u001b[32m2\u001b[39m \u001b[38;5;28mprint\u001b[39m(\u001b[33mf\u001b[39m\u001b[33m\"\u001b[39m\u001b[33mNumber of articles in the 100 sample: \u001b[39m\u001b[38;5;132;01m{\u001b[39;00m\u001b[38;5;28mlen\u001b[39m(\u001b[43mfirst_Batch_articles_WSJ_author\u001b[49m)\u001b[38;5;132;01m}\u001b[39;00m\u001b[33m\"\u001b[39m)\n\u001b[32m      3\u001b[39m \u001b[38;5;28mprint\u001b[39m(\u001b[33mf\u001b[39m\u001b[33m\"\u001b[39m\u001b[33mNumber of articles in the annotated 100 sample: \u001b[39m\u001b[38;5;132;01m{\u001b[39;00m\u001b[38;5;28mlen\u001b[39m(first_Batch_articles_WSJ_author)\u001b[38;5;132;01m}\u001b[39;00m\u001b[33m\"\u001b[39m)\n\u001b[32m      5\u001b[39m \u001b[38;5;66;03m# check for unannotated articles\u001b[39;00m\n",
      "\u001b[31mNameError\u001b[39m: name 'first_Batch_articles_WSJ_author' is not defined"
     ]
    }
   ],
   "source": [
    "# verify the annotation process\n",
    "print(f\"Number of articles in the 100 sample: {len(first_Batch_articles_WSJ_author)}\")\n",
    "print(f\"Number of articles in the annotated 100 sample: {len(first_Batch_articles_WSJ_author)}\")\n",
    "\n",
    "# check for unannotated articles\n",
    "print(f\"Number of articles with AI-related annotation: {first_Batch_articles_WSJ_author['label_ai_related'].notnull().sum()}\")\n",
    "\n",
    "# write the annotated sample to a csv file first_Batch_articles_WSJ_author\n",
    "df_100_annotated.to_csv(r\"C:\\Users\\PC\\Desktop\\Masterarbeit\\Code\\WSJ\\Annotation\\articles_WSJ_batch_one_author.csv\", index=False)  "
   ]
  },
  {
   "cell_type": "code",
   "execution_count": 5,
   "id": "aaa9a672",
   "metadata": {},
   "outputs": [
    {
     "name": "stdout",
     "output_type": "stream",
     "text": [
      "Number of articles in the clean df: 100\n",
      "columns: Index(['article_id', 'title', 'sub_title', 'cleaned_corpus',\n",
      "       'label_ai_related', 'hype_level'],\n",
      "      dtype='object')\n"
     ]
    }
   ],
   "source": [
    "# load clean df\n",
    "first_sample = pd.read_csv(r\"C:\\Users\\PC\\Desktop\\Masterarbeit\\Code\\WSJ\\Annotation\\articles_WSJ_batch_one_author.csv\")\n",
    "\n",
    "# verify the loaded file\n",
    "print(f\"Number of articles in the clean df: {len(first_sample)}\")\n",
    "print(f\"columns: {first_sample.columns}\")"
   ]
  },
  {
   "cell_type": "markdown",
   "id": "6e4f3507",
   "metadata": {},
   "source": [
    "In the next part, the second set of 100 sampled articles is created, to which 18 are added which mention AI as filtered by AI-related keywords and phrases (see bellow)"
   ]
  },
  {
   "cell_type": "code",
   "execution_count": 8,
   "id": "4a63e76e",
   "metadata": {},
   "outputs": [
    {
     "name": "stdout",
     "output_type": "stream",
     "text": [
      "Number of articles in the clean df: 500\n",
      "columns: Index(['article_id', 'image_src', 'scanned_time', 'title', 'sub_title',\n",
      "       'corpus', 'index_id'],\n",
      "      dtype='object')\n",
      "Number of articles in the first batch: 100\n"
     ]
    }
   ],
   "source": [
    "# load the large sample from the csv file\n",
    "df_first_subsample = pd.read_csv(r\"C:\\Users\\PC\\Desktop\\Masterarbeit\\Code\\WSJ\\Annotation\\articles_WSJ_sub500.csv\")\n",
    "\n",
    "# load first batch to exclude it from the large sample\n",
    "first_batch = pd.read_csv(r\"C:\\Users\\PC\\Desktop\\Masterarbeit\\Code\\WSJ\\Annotation\\articles_WSJ_batch_one_author.csv\")\n",
    "\n",
    "# verify the loaded files\n",
    "print(f\"Number of articles in the clean df: {len(df_first_subsample)}\")\n",
    "print(f\"columns: {df_first_subsample.columns}\")\n",
    "print(f\"Number of articles in the first batch: {len(first_batch)}\")"
   ]
  },
  {
   "cell_type": "code",
   "execution_count": 9,
   "id": "90efcb80",
   "metadata": {},
   "outputs": [
    {
     "name": "stdout",
     "output_type": "stream",
     "text": [
      "int64\n",
      "int64\n",
      "Number of articles in the filtered dataframe: 400\n",
      "   article_id  image_src         scanned_time  \\\n",
      "0       29053        NaN  2025-04-04 15:51:12   \n",
      "1       19489        NaN  2025-04-02 20:38:29   \n",
      "3       23657        NaN  2025-04-03 14:50:35   \n",
      "4       20373        NaN  2025-04-03 01:54:34   \n",
      "5       15366        NaN  2025-04-02 00:54:27   \n",
      "\n",
      "                                               title  \\\n",
      "0  Fisker Withdraws Guidance Amid Strategic Optio...   \n",
      "1  Oneok to Acquire EnLink Midstream in $4.3 Bill...   \n",
      "3  Walmart, Coming Off a Strong Year, Invests to ...   \n",
      "4  Trump Tax Cuts Come at the Right Time for Stoc...   \n",
      "5                 Boeing and the Automation Standoff   \n",
      "\n",
      "                                           sub_title  \\\n",
      "0  Fisker said its options may include restructur...   \n",
      "1  The deal is expected to close in the first qua...   \n",
      "3  Company tries to boost business with its $2.3 ...   \n",
      "4  Lower taxes would be a boon for an equity mark...   \n",
      "5  A plane maker has too many constituencies to p...   \n",
      "\n",
      "                                              corpus  index_id  \n",
      "0  Fisker said its options may include restructur...      6920  \n",
      "1  Nov. 25, 645 am. ET 1 min. Each outstanding co...     24682  \n",
      "3  7 min. Walmart said that inflation remains an ...      3653  \n",
      "4  MARKETS. FINANCE. Trump. Tax. Cuts. Come at th...     23212  \n",
      "5  A plane maker has too many constituencies to p...       553  \n"
     ]
    }
   ],
   "source": [
    "# convert article_id to int64\n",
    "first_batch['article_id'] = first_batch['article_id'].astype('int64')\n",
    "df_first_subsample['article_id'] = df_first_subsample['article_id'].astype('int64')\n",
    "\n",
    "# verify the conversion\n",
    "print(first_batch['article_id'].dtype)\n",
    "print(df_first_subsample['article_id'].dtype)\n",
    "\n",
    "# filter fist_sample for article_id not in df_100_annotated\n",
    "first_sample_not_annotated = df_first_subsample[~df_first_subsample['article_id'].isin(first_batch['article_id'])]\n",
    "\n",
    "# print the number of articles in the filtered dataframe\n",
    "print(f\"Number of articles in the filtered dataframe: {len(first_sample_not_annotated)}\")\n",
    "\n",
    "# print the first 5 rows of the filtered dataframe\n",
    "print(first_sample_not_annotated.head())"
   ]
  },
  {
   "cell_type": "code",
   "execution_count": 10,
   "id": "37dcff7e",
   "metadata": {},
   "outputs": [
    {
     "name": "stdout",
     "output_type": "stream",
     "text": [
      "18 out of 400 articles mention AI-related topics.\n"
     ]
    },
    {
     "name": "stderr",
     "output_type": "stream",
     "text": [
      "c:\\Users\\PC\\Desktop\\Masterarbeit\\Code\\WSJ\\Annotation\\mentions_ai.py:36: SettingWithCopyWarning: \n",
      "A value is trying to be set on a copy of a slice from a DataFrame.\n",
      "Try using .loc[row_indexer,col_indexer] = value instead\n",
      "\n",
      "See the caveats in the documentation: https://pandas.pydata.org/pandas-docs/stable/user_guide/indexing.html#returning-a-view-versus-a-copy\n",
      "  df['mentions_ai'] = df[text_column].apply(lambda x: bool(ai_pattern.search(str(x))))\n"
     ]
    }
   ],
   "source": [
    "# flag articles with AI mentions by setting mentioned_ai to 1 if the article contains any of the AI-related keywords, 0 otherwise\n",
    "first_sample_not_annotated = flag_ai_mentions(first_sample_not_annotated)"
   ]
  },
  {
   "cell_type": "code",
   "execution_count": 11,
   "id": "42d441f3",
   "metadata": {},
   "outputs": [
    {
     "name": "stdout",
     "output_type": "stream",
     "text": [
      "Number of AI-related articles in the sample: 18\n",
      "Number of non-AI articles in the sample: 100\n"
     ]
    }
   ],
   "source": [
    "# Construct second sample\n",
    "second_sample_100 = first_sample_not_annotated[first_sample_not_annotated['mentions_ai'] == 1]\n",
    "second_sample_100 = pd.concat([second_sample_100, first_sample_not_annotated[first_sample_not_annotated['mentions_ai'] == 0].sample(100, random_state=42)])\n",
    "\n",
    "# shuffle the sample, reset the index and drop the old index\n",
    "second_sample_100 = second_sample_100.sample(frac=1, random_state=42).reset_index(drop=True)\n",
    "\n",
    "# verify sample size   \n",
    "print(f\"Number of AI-related articles in the sample: {len(second_sample_100[second_sample_100['mentions_ai'] == 1])}\")\n",
    "print(f\"Number of non-AI articles in the sample: {len(second_sample_100[second_sample_100['mentions_ai'] == 0])}\")\n",
    "\n",
    "# drop the mentions_ai column\n",
    "second_sample_100 = second_sample_100.drop(columns=['mentions_ai'])\n",
    "\n",
    "# save the second sample to a csv file\n",
    "second_sample_100.to_csv(r\"C:\\Users\\PC\\Desktop\\Masterarbeit\\Code\\WSJ\\Annotation\\articles_WSJ_batch_two.csv\", index=False)\n"
   ]
  },
  {
   "cell_type": "code",
   "execution_count": null,
   "id": "19428713",
   "metadata": {},
   "outputs": [],
   "source": [
    "# verify the saved file\n",
    "df_second_sample_100 = pd.read_csv(r\"C:\\Users\\PC\\Desktop\\Masterarbeit\\Code\\WSJ\\Annotation\\articles_WSJ_batch_two.csv\")\n",
    "\n",
    "# Display the result\n",
    "display(df_second_sample_100[['article_id', 'title', 'corpus']][1:10])\n",
    "\n",
    "# print the number of articles in the second sample\n",
    "print(f\"Number of articles in the second sample: {len(df_second_sample_100)}\")\n",
    "\n",
    "# print the columns of the second sample\n",
    "print(f\"Columns in the second sample: {df_second_sample_100.columns}\")"
   ]
  },
  {
   "cell_type": "markdown",
   "id": "68bf7944",
   "metadata": {},
   "source": [
    "Next, the second batch is independently annotated by the author"
   ]
  },
  {
   "cell_type": "code",
   "execution_count": null,
   "id": "bcc35ccd",
   "metadata": {},
   "outputs": [],
   "source": [
    "# annotate the articles using the annotator function\n",
    "df_second_batch_annotated_author = af(df=df_second_batch);"
   ]
  },
  {
   "cell_type": "code",
   "execution_count": null,
   "id": "f0dc0fc5",
   "metadata": {},
   "outputs": [],
   "source": [
    "# write to csv file\n",
    "df_second_batch_annotated_author.to_csv(r\"C:\\Users\\PC\\Desktop\\Masterarbeit\\Code\\WSJ\\Annotation\\articles_WSJ_batch_two_author.csv\", index=False)"
   ]
  },
  {
   "cell_type": "code",
   "execution_count": null,
   "id": "9e0884ff",
   "metadata": {},
   "outputs": [],
   "source": [
    "# veryfy the annotation process\n",
    "print(f\"Number of articles in the second sample: {len(df_second_sample)}\")\n",
    "print(f\"Number of articles in the annotated second sample: {len(df_second_sample_annotated)}\")\n",
    "print(f\"Number of articles with AI-related annotation: {df_second_sample_annotated['label_ai_related'].sum()}\")\n",
    "print(f\"Columns in the annotated second batch: {df_second_sample_annotated.columns}\")"
   ]
  },
  {
   "cell_type": "markdown",
   "id": "84202236",
   "metadata": {},
   "source": [
    "Sampling the Third Batch\n",
    "\n",
    "As noted above, the third batch is drawn from the full corpus rather than the initial sub-sample. From this point onward, the optimized database (articlesWSJ_clean_final.db) is used as the data source. Given this, clean_article_text does not have to be applied. "
   ]
  },
  {
   "cell_type": "code",
   "execution_count": 14,
   "id": "cf2eb350",
   "metadata": {},
   "outputs": [],
   "source": [
    "# load the dataset from the cleaned database\n",
    "path = r\"C:\\Users\\PC\\Desktop\\Masterarbeit\\Code\\WSJ\\articlesWSJ_clean_final.db\"\n",
    "conn = sqlite3.connect(path)\n",
    "df = pd.read_sql_query(\"SELECT * FROM article\", conn)\n",
    "conn.close()"
   ]
  },
  {
   "cell_type": "code",
   "execution_count": null,
   "id": "41bf69de",
   "metadata": {},
   "outputs": [],
   "source": [
    "# check the columns of the full dataset\n",
    "print(f\"Columns in the full dataset: {df.columns}\")\n",
    "\n",
    "# check for NA\n",
    "print(f\"Number of NA values in the full dataset: {df.isna().sum().sum()}\")\n",
    "\n",
    "# check for NA in the article_id column\n",
    "print(f\"Number of NA values in the article_id column: {df['article_id'].isna().sum()}\") \n"
   ]
  },
  {
   "cell_type": "code",
   "execution_count": 12,
   "id": "f7379dbd",
   "metadata": {},
   "outputs": [
    {
     "name": "stdout",
     "output_type": "stream",
     "text": [
      "Columns in the batch 1: Index(['article_id', 'image_src', 'scanned_time', 'title', 'sub_title',\n",
      "       'corpus', 'index_id'],\n",
      "      dtype='object')\n",
      "Columns in the batch 2: Index(['article_id', 'image_src', 'scanned_time', 'title', 'sub_title',\n",
      "       'corpus', 'index_id'],\n",
      "      dtype='object')\n",
      "Number of articles in batch 1 and 2: 218\n"
     ]
    }
   ],
   "source": [
    "# load batch 1 and 2 to exclude them from the full dataset\n",
    "batch_1 = pd.read_csv(r\"C:\\Users\\PC\\Desktop\\Masterarbeit\\Code\\WSJ\\Annotation\\articles_WSJ_batch_one.csv\")\n",
    "batch_2 = pd.read_csv(r\"C:\\Users\\PC\\Desktop\\Masterarbeit\\Code\\WSJ\\Annotation\\articles_WSJ_batch_two.csv\")\n",
    "\n",
    "# check the columns of the batch 1 and batch 2\n",
    "print(f\"Columns in the batch 1: {batch_1.columns}\")\n",
    "print(f\"Columns in the batch 2: {batch_2.columns}\")\n",
    "\n",
    "# concatenate the two batches\n",
    "batch_1_2 = pd.concat([batch_1, batch_2], ignore_index=True)   \n",
    "\n",
    "# verify the concatenation\n",
    "print(f\"Number of articles in batch 1 and 2: {len(batch_1_2)}\")"
   ]
  },
  {
   "cell_type": "code",
   "execution_count": 15,
   "id": "06c2718d",
   "metadata": {},
   "outputs": [
    {
     "name": "stdout",
     "output_type": "stream",
     "text": [
      "Number of articles in the final dataset: 14040\n",
      "True\n"
     ]
    }
   ],
   "source": [
    "# exclude the articles that are already annotated\n",
    "df_final = df[~df['article_id'].isin(batch_1_2['article_id'])]\n",
    "\n",
    "# verify the exclusion\n",
    "print(f\"Number of articles in the final dataset: {len(df_final)}\")\n",
    "print(len(df_final) + len(batch_1_2) == len(df))"
   ]
  },
  {
   "cell_type": "code",
   "execution_count": 16,
   "id": "8dc8ccef",
   "metadata": {},
   "outputs": [
    {
     "name": "stdout",
     "output_type": "stream",
     "text": [
      "1239 out of 14040 articles mention AI-related topics.\n",
      "Number of articles in the flagged dataset: 14040\n",
      "Number of AI-related articles in the flagged dataset: 1239\n",
      "Number of non-AI articles in the flagged dataset: 12801\n"
     ]
    },
    {
     "name": "stderr",
     "output_type": "stream",
     "text": [
      "c:\\Users\\PC\\Desktop\\Masterarbeit\\Code\\WSJ\\Annotation\\mentions_ai.py:36: SettingWithCopyWarning: \n",
      "A value is trying to be set on a copy of a slice from a DataFrame.\n",
      "Try using .loc[row_indexer,col_indexer] = value instead\n",
      "\n",
      "See the caveats in the documentation: https://pandas.pydata.org/pandas-docs/stable/user_guide/indexing.html#returning-a-view-versus-a-copy\n",
      "  df['mentions_ai'] = df[text_column].apply(lambda x: bool(ai_pattern.search(str(x))))\n"
     ]
    }
   ],
   "source": [
    "# flag ai-related articles in the final dataset\n",
    "flagged_df = flag_ai_mentions(df_final)\n",
    "\n",
    "# verify the flagging process\n",
    "print(f\"Number of articles in the flagged dataset: {len(flagged_df)}\")\n",
    "print(f\"Number of AI-related articles in the flagged dataset: {flagged_df['mentions_ai'].sum()}\")\n",
    "print(f\"Number of non-AI articles in the flagged dataset: {len(flagged_df) - flagged_df['mentions_ai'].sum()}\")"
   ]
  },
  {
   "cell_type": "code",
   "execution_count": 17,
   "id": "811711fb",
   "metadata": {},
   "outputs": [
    {
     "name": "stdout",
     "output_type": "stream",
     "text": [
      "Number of articles in the batch three: 100\n",
      "Number of AI-related articles in the batch three: 50\n"
     ]
    }
   ],
   "source": [
    "# Filter  annotated articles\n",
    "ai_articles = flagged_df[flagged_df['mentions_ai'] == True]\n",
    "non_ai_articles = flagged_df[flagged_df['mentions_ai'] == False]\n",
    "\n",
    "# Randomly select 50 AI-related articles and 50 non-AI article (reproducible with seed)\n",
    "sample_ai = ai_articles.sample(50, random_state=42)\n",
    "sample_non_ai = non_ai_articles.sample(50, random_state=42)\n",
    "\n",
    "# Combine into one DataFrame\n",
    "sampled_batch_three = pd.concat([sample_ai, sample_non_ai]).sample(frac=1, random_state=42).reset_index(drop=True)\n",
    "\n",
    "#  Display the result\n",
    "sampled_batch_three[['article_id', 'title', 'corpus', 'mentions_ai']]\n",
    "\n",
    "# print number of articles in the batch three\n",
    "print(f\"Number of articles in the batch three: {len(sampled_batch_three)}\")\n",
    "\n",
    "# verify existence of 50 AI-related articles and 50 non-AI articles\n",
    "print(f\"Number of AI-related articles in the batch three: {len(sampled_batch_three[sampled_batch_three['mentions_ai'] == 1])}\")\n",
    "\n",
    "# drop the mentions_ai column\n",
    "sampled_batch_three = sampled_batch_three.drop(columns=['mentions_ai'])\n",
    "\n",
    "# write to csv file\n",
    "sampled_batch_three.to_csv(r\"C:\\Users\\PC\\Desktop\\Masterarbeit\\Code\\WSJ\\Annotation\\articles_WSJ_batch_three.csv\", index=False)"
   ]
  },
  {
   "cell_type": "code",
   "execution_count": null,
   "id": "a8e8ca18",
   "metadata": {},
   "outputs": [],
   "source": [
    "# verify the saved file\n",
    "print(sampled_batch_three.columns)"
   ]
  },
  {
   "cell_type": "markdown",
   "id": "591f746a",
   "metadata": {},
   "source": [
    "Next, the third batch is independently annotated by the author"
   ]
  },
  {
   "cell_type": "code",
   "execution_count": null,
   "id": "64c2dc07",
   "metadata": {},
   "outputs": [],
   "source": [
    "# load the third sample from the csv file\n",
    "df_third_batch = pd.read_csv(r\"C:\\Users\\PC\\Desktop\\Masterarbeit\\Code\\WSJ\\Annotation\\articles_WSJ_batch_three.csv\")\n",
    "\n",
    "# verify the loaded file\n",
    "print(f\"Number of articles in the clean df: {len(df_third_batch)}\")\n",
    "print(f\"columns: {df_third_batch.columns}\")  "
   ]
  },
  {
   "cell_type": "code",
   "execution_count": null,
   "id": "9311421e",
   "metadata": {},
   "outputs": [],
   "source": [
    "# annotate the articles using the annotator function\n",
    "df_third_batch_annotated_author = af(df=df_third_batch);"
   ]
  },
  {
   "cell_type": "code",
   "execution_count": null,
   "id": "17a7f33e",
   "metadata": {},
   "outputs": [],
   "source": [
    "# write to csv file\n",
    "df_third_batch_annotated_author.to_csv(r\"C:\\Users\\PC\\Desktop\\Masterarbeit\\Code\\WSJ\\Annotation\\articles_WSJ_batch_three_author.csv\", index=False)"
   ]
  },
  {
   "cell_type": "code",
   "execution_count": null,
   "id": "6df1cfb5",
   "metadata": {},
   "outputs": [],
   "source": [
    "# verify the csv file\n",
    "df_third_batch_annotated = pd.read_csv(r\"C:\\Users\\PC\\Desktop\\Masterarbeit\\Code\\WSJ\\Annotation\\articles_WSJ_batch_three_author.csv\")\n",
    "# check the columns of the annotated batch three\n",
    "print(f\"Columns in the annotated batch three: {df_third_batch_annotated.columns}\")\n",
    "print(f\"Number of articles in the annotated batch three: {len(df_third_batch_annotated)}\")\n",
    "print(f\"Number of articles with AI-related annotation: {df_third_batch_annotated['label_ai_related'].sum()}\")\n",
    "print(f\"The total hype score is: {df_third_batch_annotated['hype_level'].sum()}\")"
   ]
  },
  {
   "cell_type": "markdown",
   "id": "2d173a65",
   "metadata": {},
   "source": [
    "Next, the fourth (final) batch (n=700) is created"
   ]
  },
  {
   "cell_type": "code",
   "execution_count": null,
   "id": "890d2220",
   "metadata": {},
   "outputs": [
    {
     "name": "stdout",
     "output_type": "stream",
     "text": [
      "In batch_1 but not in batch_2: {'section', 'corpus', 'date'}\n",
      "In batch_2 but not in batch_1: {'cleaned_corpus'}\n",
      "In batch_1 but not in batch_3: set()\n",
      "In batch_3 but not in batch_1: {'image_src', 'index_id', 'scanned_time'}\n",
      "In batch_2 but not in batch_3: {'cleaned_corpus'}\n",
      "In batch_3 but not in batch_2: {'section', 'date', 'image_src', 'index_id', 'corpus', 'scanned_time'}\n"
     ]
    }
   ],
   "source": [
    "# exclude  batch 1, batch 2 and batch 3 from the full dataset\n",
    "\n",
    "#read the batch 1, 2 & 3 from the csv file\n",
    "batch_1 = pd.read_csv(r\"C:\\Users\\PC\\Desktop\\Masterarbeit\\Code\\WSJ\\Annotation\\articles_WSJ_batch_one.csv\")\n",
    "batch_2 = pd.read_csv(r\"C:\\Users\\PC\\Desktop\\Masterarbeit\\Code\\WSJ\\Annotation\\articles_WSJ_batch_two.csv\")\n",
    "batch_3 = pd.read_csv(r\"C:\\Users\\PC\\Desktop\\Masterarbeit\\Code\\WSJ\\Annotation\\articles_WSJ_batch_three.csv\")\n",
    "\n",
    "# find columns that are not in all three batches\n",
    "cols1 = set(batch_1.columns)\n",
    "cols2 = set(batch_2.columns)\n",
    "cols3 = set(batch_3.columns)\n",
    "\n",
    "print(\"In batch_1 but not in batch_2:\", cols1 - cols2)\n",
    "print(\"In batch_2 but not in batch_1:\", cols2 - cols1)\n",
    "\n",
    "print(\"In batch_1 but not in batch_3:\", cols1 - cols3)\n",
    "print(\"In batch_3 but not in batch_1:\", cols3 - cols1)\n",
    "\n",
    "print(\"In batch_2 but not in batch_3:\", cols2 - cols3)\n",
    "print(\"In batch_3 but not in batch_2:\", cols3 - cols2)"
   ]
  },
  {
   "cell_type": "code",
   "execution_count": null,
   "id": "f1f509b3",
   "metadata": {},
   "outputs": [
    {
     "name": "stdout",
     "output_type": "stream",
     "text": [
      "columns are identical: True\n"
     ]
    }
   ],
   "source": [
    "# due to optimization of the cleaning process (see above), some modifacations have to be made to allow merging of the three batches\n",
    "\n",
    "# drop colukns to ensure that the columns of batch 1 and 2 are identical to batch 3\n",
    "batch_1 = batch_1.drop(columns=[\"date\",\"section\"])\n",
    "batch_3 = batch_3.drop(columns=[\"date\",\"section\",\"index_id\",\"scanned_time\",\"image_src\",\"date\"])\n",
    "\n",
    "# rename the columns to match batch 1 and 2\n",
    "batch_2 = batch_2.rename(columns={\"cleaned_corpus\": \"corpus\",})\n",
    "\n",
    "# verify identity of the columns\n",
    "print(f'columns are identical: {set(batch_1.columns) == set(batch_2.columns) == set(batch_3.columns)}')"
   ]
  },
  {
   "cell_type": "code",
   "execution_count": 43,
   "id": "7f88af8e",
   "metadata": {},
   "outputs": [
    {
     "name": "stdout",
     "output_type": "stream",
     "text": [
      "there are 318 articles in the concatenated df: True\n"
     ]
    }
   ],
   "source": [
    "# concatenate the two batches\n",
    "batch_1_2_3 = pd.concat([batch_1, batch_2, batch_3], ignore_index=True)   \n",
    "\n",
    "# verify the concatenation\n",
    "print(f'there are 318 articles in the concatenated df:', len(batch_1_2_3) == 318)"
   ]
  },
  {
   "cell_type": "code",
   "execution_count": null,
   "id": "dc2f8bfc",
   "metadata": {},
   "outputs": [],
   "source": [
    "# load the dataset from the cleaned database\n",
    "path = r\"C:\\Users\\PC\\Desktop\\Masterarbeit\\Code\\WSJ\\articlesWSJ_clean_final.db\"\n",
    "conn = sqlite3.connect(path)\n",
    "df = pd.read_sql_query(\"SELECT * FROM article\", conn)\n",
    "conn.close()"
   ]
  },
  {
   "cell_type": "code",
   "execution_count": null,
   "id": "c5178882",
   "metadata": {},
   "outputs": [],
   "source": [
    "# verify the columns of the full dataset\n",
    "print(f\"Columns in the full dataset: {df.columns}\")\n",
    "print(f\"Number of articles in the full dataset: {len(df)}\")"
   ]
  },
  {
   "cell_type": "code",
   "execution_count": null,
   "id": "f737510c",
   "metadata": {},
   "outputs": [
    {
     "ename": "NameError",
     "evalue": "name 'batch_1_2_3' is not defined",
     "output_type": "error",
     "traceback": [
      "\u001b[31m---------------------------------------------------------------------------\u001b[39m",
      "\u001b[31mNameError\u001b[39m                                 Traceback (most recent call last)",
      "\u001b[36mCell\u001b[39m\u001b[36m \u001b[39m\u001b[32mIn[92]\u001b[39m\u001b[32m, line 2\u001b[39m\n\u001b[32m      1\u001b[39m \u001b[38;5;66;03m# subset for article_id not in batch 1, 2 and 3\u001b[39;00m\n\u001b[32m----> \u001b[39m\u001b[32m2\u001b[39m batch_1_2_3[\u001b[33m'\u001b[39m\u001b[33marticle_id\u001b[39m\u001b[33m'\u001b[39m] = \u001b[43mbatch_1_2_3\u001b[49m[\u001b[33m'\u001b[39m\u001b[33marticle_id\u001b[39m\u001b[33m'\u001b[39m].astype(\u001b[33m'\u001b[39m\u001b[33mint64\u001b[39m\u001b[33m'\u001b[39m)\n\u001b[32m      3\u001b[39m df_final = df[~df[\u001b[33m'\u001b[39m\u001b[33marticle_id\u001b[39m\u001b[33m'\u001b[39m].isin(batch_1_2_3[\u001b[33m'\u001b[39m\u001b[33marticle_id\u001b[39m\u001b[33m'\u001b[39m])]\n\u001b[32m      4\u001b[39m \u001b[38;5;66;03m# verify the exclusion\u001b[39;00m\n",
      "\u001b[31mNameError\u001b[39m: name 'batch_1_2_3' is not defined"
     ]
    }
   ],
   "source": [
    "# subset for article_id not in batch 1, 2 and 3\n",
    "batch_1_2_3['article_id'] = batch_1_2_3['article_id'].astype('int64')\n",
    "df_final = df[~df['article_id'].isin(batch_1_2_3['article_id'])]\n",
    "\n",
    "# verify the exclusion\n",
    "print(f\"Number of articles in the final dataset: {len(df_final)}\")"
   ]
  },
  {
   "cell_type": "code",
   "execution_count": null,
   "id": "65c8c64d",
   "metadata": {},
   "outputs": [],
   "source": [
    "# flag ai-related articles in the final dataset\n",
    "flagged_df = flag_ai_mentions(df_final)\n",
    "\n",
    "# verify the flagging process\n",
    "print(f\"Number of articles in the flagged dataset: {len(flagged_df)}\")\n",
    "print(f\"Number of AI-related articles in the flagged dataset: {flagged_df['mentions_ai'].sum()}\")"
   ]
  },
  {
   "cell_type": "code",
   "execution_count": null,
   "id": "5730820a",
   "metadata": {},
   "outputs": [],
   "source": [
    "# Randomly select 350 AI-related articles and 350 non-AI article (reproducible with seed)\n",
    "sample_ai = flagged_df[flagged_df['mentions_ai'] == True].sample(350, random_state=42)\n",
    "sample_non_ai = flagged_df[flagged_df['mentions_ai'] == False].sample(350, random_state=42)\n",
    "\n",
    "# Combine into one DataFrame\n",
    "sampled_batch_four = pd.concat([sample_ai, sample_non_ai]).sample(frac=1, random_state=42).reset_index(drop=True)\n",
    "\n",
    "#  Display the result\n",
    "print(f\"Number of articles in the batch four: {len(sampled_batch_four)}\")\n",
    "print(f\"Number of AI-related articles in the batch four: {len(sampled_batch_four[sampled_batch_four['mentions_ai'] == 1])}\")\n",
    "\n",
    "# drop the mentions_ai column\n",
    "sampled_batch_four = sampled_batch_four.drop(columns=['mentions_ai'])\n",
    "\n",
    "# write to csv file\n",
    "sampled_batch_four.to_csv(r\"C:\\Users\\PC\\Desktop\\Masterarbeit\\Code\\WSJ\\Annotation\\articles_WSJ_batch_four.csv\", index=False)\n"
   ]
  },
  {
   "cell_type": "code",
   "execution_count": null,
   "id": "1d2008b6",
   "metadata": {},
   "outputs": [],
   "source": [
    "# verify the saved file\n",
    "df_fourth_batch = pd.read_csv(r\"C:\\Users\\PC\\Desktop\\Masterarbeit\\Code\\WSJ\\Annotation\\articles_WSJ_batch_four.csv\")\n",
    "\n",
    "# verify the loaded file\n",
    "print(f\"Number of articles in the clean df: {len(df_fourth_batch)}\")\n",
    "print(f\"columns: {df_fourth_batch.columns}\") "
   ]
  }
 ],
 "metadata": {
  "kernelspec": {
   "display_name": "Python 3",
   "language": "python",
   "name": "python3"
  },
  "language_info": {
   "codemirror_mode": {
    "name": "ipython",
    "version": 3
   },
   "file_extension": ".py",
   "mimetype": "text/x-python",
   "name": "python",
   "nbconvert_exporter": "python",
   "pygments_lexer": "ipython3",
   "version": "3.11.9"
  }
 },
 "nbformat": 4,
 "nbformat_minor": 5
}
