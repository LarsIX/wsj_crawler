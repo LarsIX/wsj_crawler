{
 "cells": [
  {
   "cell_type": "code",
   "execution_count": null,
   "id": "02feccb1",
   "metadata": {},
   "outputs": [],
   "source": [
    "import sqlite3\n",
    "import os   \n",
    "import pandas as pd\n",
    "\n",
    "# import text_cleaner\n",
    "from text_cleaner_WSJ import clean_article_text"
   ]
  },
  {
   "cell_type": "code",
   "execution_count": null,
   "id": "a590f3b9",
   "metadata": {},
   "outputs": [],
   "source": [
    "#  Set Base Directory (Relative to Repository Root)\n",
    "repo_root = os.getcwd()\n",
    "wsj_base = os.path.join(repo_root, \"WSJ\")\n",
    "\n",
    "# Change to 2023 or 2024\n",
    "year = 2024  \n",
    "\n",
    "# Define database names\n",
    "db_filenames = {\n",
    "    2023: \"articlesWSJ_2023.db\",\n",
    "    2024: \"articlesWSJ_2024.db\"\n",
    "}\n",
    "\n",
    "# verify the year and database file\n",
    "if year not in db_filenames:\n",
    "    raise ValueError(f\"Unsupported year: {year}. Supported years: {list(db_filenames.keys())}\")\n",
    "\n",
    "db_path = os.path.join(wsj_base, str(year), \"WSJ_DB\", db_filenames[year])\n",
    "\n",
    "if not os.path.exists(db_path):\n",
    "    raise FileNotFoundError(f\"Database not found at: {db_path}\")\n",
    "\n",
    "print(f\"Connecting to database (relative path): {os.path.relpath(db_path, repo_root)}\")\n",
    "conn = sqlite3.connect(db_path)"
   ]
  },
  {
   "cell_type": "code",
   "execution_count": null,
   "id": "6819e479",
   "metadata": {},
   "outputs": [],
   "source": [
    "# load the articles from the database\n",
    "df = pd.read_sql_query(\"SELECT * FROM article;\", conn)\n",
    "conn.close()\n",
    "print(f\"Loaded {len(df)} articles.\")"
   ]
  },
  {
   "cell_type": "code",
   "execution_count": null,
   "id": "170884fd",
   "metadata": {},
   "outputs": [],
   "source": [
    "# find duplicats in corpus\n",
    "duplicates = df[df.duplicated(subset=['corpus'], keep=False)]\n",
    "print(\"Duplicated corpus rows:\\n\", duplicates[['corpus', 'article_id']].head(10))\n",
    "print(\"Number of duplicated corpus rows:\", len(duplicates))\n",
    "\n",
    "# drop duplicates\n",
    "df = df.drop_duplicates(subset=['corpus'], keep='first')   \n",
    "\n",
    "# verify that duplicates are removed\n",
    "duplicates_after = df[df.duplicated(subset=['corpus'], keep=False)] \n",
    "print(\"Duplicated corpus rows after dropping duplicates:\\n\", duplicates_after[['corpus', 'article_id']].head(10))"
   ]
  },
  {
   "cell_type": "code",
   "execution_count": null,
   "id": "4e9b3d84",
   "metadata": {},
   "outputs": [],
   "source": [
    "# merching year, month, day into a single date column\n",
    "df['date'] = pd.to_datetime(df[['year', 'month', 'day']].astype(str).agg('-'.join, axis=1), format='%Y-%m-%d')\n",
    "\n",
    "# verify the new date column\n",
    "print(\"Date column:\\n\", df[['year', 'month', 'day', 'date']].head(10))\n",
    "print(\"Date column data type:\", df['date'].dtype)\n",
    "\n",
    "# drop the old columns\n",
    "df = df.drop(columns=['year', 'month', 'day'])"
   ]
  },
  {
   "cell_type": "code",
   "execution_count": null,
   "id": "ce650f82",
   "metadata": {},
   "outputs": [],
   "source": [
    "# apply cleaner function\n",
    "df['cleaned_corpus'] = df['corpus'].apply(lambda x: clean_article_text(x))\n",
    "\n",
    "# verify that the function worked\n",
    "print(\"Sample cleaned corpus:\\n\", df['cleaned_corpus'].head(10))"
   ]
  },
  {
   "cell_type": "code",
   "execution_count": null,
   "id": "2678763b",
   "metadata": {},
   "outputs": [],
   "source": [
    "# load article_index from database\n",
    "conn = sqlite3.connect(db_path)\n",
    "df_index = pd.read_sql_query(\"SELECT * FROM article_index;\", conn)\n",
    "conn.close()\n",
    "\n",
    "# verify the loaded index\n",
    "print(\"Loaded article_index with columns:\\n\", df_index.columns)\n",
    "m"
   ]
  },
  {
   "cell_type": "code",
   "execution_count": null,
   "id": "74b6740d",
   "metadata": {},
   "outputs": [],
   "source": [
    "# Define Cleaned Output Databases\n",
    "clean_filenames = {\n",
    "    2023: \"articlesWSJ_clean_final_2023.db\",\n",
    "    2024: \"articlesWSJ_clean_final_2024.db\"\n",
    "}\n",
    "\n",
    "clean_db_path = os.path.join(wsj_base, str(year), \"WSJ_DB\", clean_filenames[year])\n",
    "\n",
    "print(f\"Saving cleaned data to (relative path): {os.path.relpath(clean_db_path, repo_root)}\")\n",
    "\n",
    "with sqlite3.connect(clean_db_path) as clean_conn:\n",
    "    df.to_sql(\"article\", clean_conn, if_exists=\"replace\", index=False)\n",
    "    df_index.to_sql(\"articles_index\", clean_conn, if_exists=\"replace\", index=False) \n",
    "print(\"✅ Cleaned data saved successfully.\")"
   ]
  }
 ],
 "metadata": {
  "kernelspec": {
   "display_name": "Python 3",
   "language": "python",
   "name": "python3"
  },
  "language_info": {
   "name": "python",
   "version": "3.11.9"
  }
 },
 "nbformat": 4,
 "nbformat_minor": 5
}
