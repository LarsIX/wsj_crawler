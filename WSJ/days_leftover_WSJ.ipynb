{
 "cells": [
  {
   "cell_type": "code",
   "execution_count": 4,
   "id": "18ace605",
   "metadata": {},
   "outputs": [],
   "source": [
    "import pandas as pd\n",
    "import sqlite3\n",
    "import os"
   ]
  },
  {
   "cell_type": "code",
   "execution_count": 14,
   "id": "be60f86a",
   "metadata": {},
   "outputs": [
    {
     "name": "stdout",
     "output_type": "stream",
     "text": [
      "Index(['article_id', 'image_src', 'scanned_time', 'title', 'sub_title',\n",
      "       'corpus', 'index_id', 'section', 'date'],\n",
      "      dtype='object')\n"
     ]
    }
   ],
   "source": [
    "# connect to data base\n",
    "con = sqlite3.connect(r'c:\\Users\\PC\\Desktop\\Masterarbeit\\Code\\WSJ\\articlesWSJ_reduced.db')\n",
    "\n",
    "# read to data frame\n",
    "df = pd.read_sql_query('SELECT * FROM  article', con)   \n",
    "\n",
    "# close connection\n",
    "con.close()\n",
    "\n",
    "# inspect columns\n",
    "print(df.columns)"
   ]
  },
  {
   "cell_type": "code",
   "execution_count": 15,
   "id": "3ed680bb",
   "metadata": {},
   "outputs": [
    {
     "name": "stdout",
     "output_type": "stream",
     "text": [
      "Number of articles per day (only days with less than 30):\n",
      "date\n",
      "2024-12-28 00:00:00    11\n",
      "2024-12-21 00:00:00    12\n",
      "2024-12-14 00:00:00    12\n",
      "2024-06-29 00:00:00    13\n",
      "2024-05-26 00:00:00    13\n",
      "                       ..\n",
      "2024-05-20 00:00:00    27\n",
      "2024-07-21 00:00:00    28\n",
      "2024-09-16 00:00:00    28\n",
      "2024-03-17 00:00:00    28\n",
      "2024-05-05 00:00:00    28\n",
      "Length: 202, dtype: int64\n"
     ]
    }
   ],
   "source": [
    "# Count the number of articles per day\n",
    "article_counts = df.groupby(\"date\").size()\n",
    "\n",
    "# Get the dates where there are fewer than 30 articles\n",
    "dates_with_less_than_30 = article_counts[article_counts < 30].index\n",
    "\n",
    "# Filter the original DataFrame to include only those dates\n",
    "less_than_30 = df[df[\"date\"].isin(dates_with_less_than_30)]\n",
    "\n",
    "# Print the number of articles per day (only for days with fewer than 30)\n",
    "print(\"Number of articles per day (only days with less than 30):\")\n",
    "print(less_than_30.groupby(\"date\").size().sort_values())\n",
    "\n",
    "# create csv with missing dates\n",
    "less_than_30.to_csv(r\"C:\\Users\\PC\\Desktop\\Masterarbeit\\Code\\WSJ\\missing_dates.csv\", index=False)"
   ]
  }
 ],
 "metadata": {
  "kernelspec": {
   "display_name": "Python 3",
   "language": "python",
   "name": "python3"
  },
  "language_info": {
   "codemirror_mode": {
    "name": "ipython",
    "version": 3
   },
   "file_extension": ".py",
   "mimetype": "text/x-python",
   "name": "python",
   "nbconvert_exporter": "python",
   "pygments_lexer": "ipython3",
   "version": "3.11.9"
  }
 },
 "nbformat": 4,
 "nbformat_minor": 5
}
